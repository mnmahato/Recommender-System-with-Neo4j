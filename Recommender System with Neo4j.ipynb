{
 "cells": [
  {
   "cell_type": "code",
   "execution_count": 1,
   "id": "85c64460",
   "metadata": {},
   "outputs": [],
   "source": [
    "import numpy as np\n",
    "import pandas as pd\n",
    "import matplotlib.pyplot as plt\n",
    "import seaborn as sns\n",
    "%matplotlib inline"
   ]
  },
  {
   "cell_type": "code",
   "execution_count": 2,
   "id": "5d4c970c",
   "metadata": {},
   "outputs": [
    {
     "name": "stderr",
     "output_type": "stream",
     "text": [
      "C:\\Users\\Admin\\anaconda3\\lib\\site-packages\\IPython\\core\\interactiveshell.py:3165: DtypeWarning: Columns (10) have mixed types.Specify dtype option on import or set low_memory=False.\n",
      "  has_raised = await self.run_ast_nodes(code_ast.body, cell_name,\n"
     ]
    }
   ],
   "source": [
    "movies_md = pd.read_csv('Dataset/movies_metadata.csv')\n",
    "movies_links = pd.read_csv('Dataset/links_small.csv')\n",
    "movies_credits = pd.read_csv('Dataset/credits.csv')\n",
    "movies_ratings = pd.read_csv('Dataset/ratings_small.csv')\n",
    "movies_keywords = pd.read_csv('Dataset/keywords.csv')"
   ]
  },
  {
   "cell_type": "code",
   "execution_count": 3,
   "id": "ce23adce",
   "metadata": {},
   "outputs": [
    {
     "data": {
      "text/html": [
       "<div>\n",
       "<style scoped>\n",
       "    .dataframe tbody tr th:only-of-type {\n",
       "        vertical-align: middle;\n",
       "    }\n",
       "\n",
       "    .dataframe tbody tr th {\n",
       "        vertical-align: top;\n",
       "    }\n",
       "\n",
       "    .dataframe thead th {\n",
       "        text-align: right;\n",
       "    }\n",
       "</style>\n",
       "<table border=\"1\" class=\"dataframe\">\n",
       "  <thead>\n",
       "    <tr style=\"text-align: right;\">\n",
       "      <th></th>\n",
       "      <th>adult</th>\n",
       "      <th>belongs_to_collection</th>\n",
       "      <th>budget</th>\n",
       "      <th>genres</th>\n",
       "      <th>homepage</th>\n",
       "      <th>id</th>\n",
       "      <th>imdb_id</th>\n",
       "      <th>original_language</th>\n",
       "      <th>original_title</th>\n",
       "      <th>overview</th>\n",
       "      <th>...</th>\n",
       "      <th>release_date</th>\n",
       "      <th>revenue</th>\n",
       "      <th>runtime</th>\n",
       "      <th>spoken_languages</th>\n",
       "      <th>status</th>\n",
       "      <th>tagline</th>\n",
       "      <th>title</th>\n",
       "      <th>video</th>\n",
       "      <th>vote_average</th>\n",
       "      <th>vote_count</th>\n",
       "    </tr>\n",
       "  </thead>\n",
       "  <tbody>\n",
       "    <tr>\n",
       "      <th>0</th>\n",
       "      <td>False</td>\n",
       "      <td>{'id': 10194, 'name': 'Toy Story Collection', ...</td>\n",
       "      <td>30000000</td>\n",
       "      <td>[{'id': 16, 'name': 'Animation'}, {'id': 35, '...</td>\n",
       "      <td>http://toystory.disney.com/toy-story</td>\n",
       "      <td>862</td>\n",
       "      <td>tt0114709</td>\n",
       "      <td>en</td>\n",
       "      <td>Toy Story</td>\n",
       "      <td>Led by Woody, Andy's toys live happily in his ...</td>\n",
       "      <td>...</td>\n",
       "      <td>1995-10-30</td>\n",
       "      <td>373554033.0</td>\n",
       "      <td>81.0</td>\n",
       "      <td>[{'iso_639_1': 'en', 'name': 'English'}]</td>\n",
       "      <td>Released</td>\n",
       "      <td>NaN</td>\n",
       "      <td>Toy Story</td>\n",
       "      <td>False</td>\n",
       "      <td>7.7</td>\n",
       "      <td>5415.0</td>\n",
       "    </tr>\n",
       "    <tr>\n",
       "      <th>1</th>\n",
       "      <td>False</td>\n",
       "      <td>NaN</td>\n",
       "      <td>65000000</td>\n",
       "      <td>[{'id': 12, 'name': 'Adventure'}, {'id': 14, '...</td>\n",
       "      <td>NaN</td>\n",
       "      <td>8844</td>\n",
       "      <td>tt0113497</td>\n",
       "      <td>en</td>\n",
       "      <td>Jumanji</td>\n",
       "      <td>When siblings Judy and Peter discover an encha...</td>\n",
       "      <td>...</td>\n",
       "      <td>1995-12-15</td>\n",
       "      <td>262797249.0</td>\n",
       "      <td>104.0</td>\n",
       "      <td>[{'iso_639_1': 'en', 'name': 'English'}, {'iso...</td>\n",
       "      <td>Released</td>\n",
       "      <td>Roll the dice and unleash the excitement!</td>\n",
       "      <td>Jumanji</td>\n",
       "      <td>False</td>\n",
       "      <td>6.9</td>\n",
       "      <td>2413.0</td>\n",
       "    </tr>\n",
       "    <tr>\n",
       "      <th>2</th>\n",
       "      <td>False</td>\n",
       "      <td>{'id': 119050, 'name': 'Grumpy Old Men Collect...</td>\n",
       "      <td>0</td>\n",
       "      <td>[{'id': 10749, 'name': 'Romance'}, {'id': 35, ...</td>\n",
       "      <td>NaN</td>\n",
       "      <td>15602</td>\n",
       "      <td>tt0113228</td>\n",
       "      <td>en</td>\n",
       "      <td>Grumpier Old Men</td>\n",
       "      <td>A family wedding reignites the ancient feud be...</td>\n",
       "      <td>...</td>\n",
       "      <td>1995-12-22</td>\n",
       "      <td>0.0</td>\n",
       "      <td>101.0</td>\n",
       "      <td>[{'iso_639_1': 'en', 'name': 'English'}]</td>\n",
       "      <td>Released</td>\n",
       "      <td>Still Yelling. Still Fighting. Still Ready for...</td>\n",
       "      <td>Grumpier Old Men</td>\n",
       "      <td>False</td>\n",
       "      <td>6.5</td>\n",
       "      <td>92.0</td>\n",
       "    </tr>\n",
       "    <tr>\n",
       "      <th>3</th>\n",
       "      <td>False</td>\n",
       "      <td>NaN</td>\n",
       "      <td>16000000</td>\n",
       "      <td>[{'id': 35, 'name': 'Comedy'}, {'id': 18, 'nam...</td>\n",
       "      <td>NaN</td>\n",
       "      <td>31357</td>\n",
       "      <td>tt0114885</td>\n",
       "      <td>en</td>\n",
       "      <td>Waiting to Exhale</td>\n",
       "      <td>Cheated on, mistreated and stepped on, the wom...</td>\n",
       "      <td>...</td>\n",
       "      <td>1995-12-22</td>\n",
       "      <td>81452156.0</td>\n",
       "      <td>127.0</td>\n",
       "      <td>[{'iso_639_1': 'en', 'name': 'English'}]</td>\n",
       "      <td>Released</td>\n",
       "      <td>Friends are the people who let you be yourself...</td>\n",
       "      <td>Waiting to Exhale</td>\n",
       "      <td>False</td>\n",
       "      <td>6.1</td>\n",
       "      <td>34.0</td>\n",
       "    </tr>\n",
       "    <tr>\n",
       "      <th>4</th>\n",
       "      <td>False</td>\n",
       "      <td>{'id': 96871, 'name': 'Father of the Bride Col...</td>\n",
       "      <td>0</td>\n",
       "      <td>[{'id': 35, 'name': 'Comedy'}]</td>\n",
       "      <td>NaN</td>\n",
       "      <td>11862</td>\n",
       "      <td>tt0113041</td>\n",
       "      <td>en</td>\n",
       "      <td>Father of the Bride Part II</td>\n",
       "      <td>Just when George Banks has recovered from his ...</td>\n",
       "      <td>...</td>\n",
       "      <td>1995-02-10</td>\n",
       "      <td>76578911.0</td>\n",
       "      <td>106.0</td>\n",
       "      <td>[{'iso_639_1': 'en', 'name': 'English'}]</td>\n",
       "      <td>Released</td>\n",
       "      <td>Just When His World Is Back To Normal... He's ...</td>\n",
       "      <td>Father of the Bride Part II</td>\n",
       "      <td>False</td>\n",
       "      <td>5.7</td>\n",
       "      <td>173.0</td>\n",
       "    </tr>\n",
       "  </tbody>\n",
       "</table>\n",
       "<p>5 rows × 24 columns</p>\n",
       "</div>"
      ],
      "text/plain": [
       "   adult                              belongs_to_collection    budget  \\\n",
       "0  False  {'id': 10194, 'name': 'Toy Story Collection', ...  30000000   \n",
       "1  False                                                NaN  65000000   \n",
       "2  False  {'id': 119050, 'name': 'Grumpy Old Men Collect...         0   \n",
       "3  False                                                NaN  16000000   \n",
       "4  False  {'id': 96871, 'name': 'Father of the Bride Col...         0   \n",
       "\n",
       "                                              genres  \\\n",
       "0  [{'id': 16, 'name': 'Animation'}, {'id': 35, '...   \n",
       "1  [{'id': 12, 'name': 'Adventure'}, {'id': 14, '...   \n",
       "2  [{'id': 10749, 'name': 'Romance'}, {'id': 35, ...   \n",
       "3  [{'id': 35, 'name': 'Comedy'}, {'id': 18, 'nam...   \n",
       "4                     [{'id': 35, 'name': 'Comedy'}]   \n",
       "\n",
       "                               homepage     id    imdb_id original_language  \\\n",
       "0  http://toystory.disney.com/toy-story    862  tt0114709                en   \n",
       "1                                   NaN   8844  tt0113497                en   \n",
       "2                                   NaN  15602  tt0113228                en   \n",
       "3                                   NaN  31357  tt0114885                en   \n",
       "4                                   NaN  11862  tt0113041                en   \n",
       "\n",
       "                original_title  \\\n",
       "0                    Toy Story   \n",
       "1                      Jumanji   \n",
       "2             Grumpier Old Men   \n",
       "3            Waiting to Exhale   \n",
       "4  Father of the Bride Part II   \n",
       "\n",
       "                                            overview  ... release_date  \\\n",
       "0  Led by Woody, Andy's toys live happily in his ...  ...   1995-10-30   \n",
       "1  When siblings Judy and Peter discover an encha...  ...   1995-12-15   \n",
       "2  A family wedding reignites the ancient feud be...  ...   1995-12-22   \n",
       "3  Cheated on, mistreated and stepped on, the wom...  ...   1995-12-22   \n",
       "4  Just when George Banks has recovered from his ...  ...   1995-02-10   \n",
       "\n",
       "       revenue runtime                                   spoken_languages  \\\n",
       "0  373554033.0    81.0           [{'iso_639_1': 'en', 'name': 'English'}]   \n",
       "1  262797249.0   104.0  [{'iso_639_1': 'en', 'name': 'English'}, {'iso...   \n",
       "2          0.0   101.0           [{'iso_639_1': 'en', 'name': 'English'}]   \n",
       "3   81452156.0   127.0           [{'iso_639_1': 'en', 'name': 'English'}]   \n",
       "4   76578911.0   106.0           [{'iso_639_1': 'en', 'name': 'English'}]   \n",
       "\n",
       "     status                                            tagline  \\\n",
       "0  Released                                                NaN   \n",
       "1  Released          Roll the dice and unleash the excitement!   \n",
       "2  Released  Still Yelling. Still Fighting. Still Ready for...   \n",
       "3  Released  Friends are the people who let you be yourself...   \n",
       "4  Released  Just When His World Is Back To Normal... He's ...   \n",
       "\n",
       "                         title  video vote_average vote_count  \n",
       "0                    Toy Story  False          7.7     5415.0  \n",
       "1                      Jumanji  False          6.9     2413.0  \n",
       "2             Grumpier Old Men  False          6.5       92.0  \n",
       "3            Waiting to Exhale  False          6.1       34.0  \n",
       "4  Father of the Bride Part II  False          5.7      173.0  \n",
       "\n",
       "[5 rows x 24 columns]"
      ]
     },
     "execution_count": 3,
     "metadata": {},
     "output_type": "execute_result"
    }
   ],
   "source": [
    "movies_md.head()"
   ]
  },
  {
   "cell_type": "code",
   "execution_count": 4,
   "id": "329a2671",
   "metadata": {},
   "outputs": [
    {
     "name": "stdout",
     "output_type": "stream",
     "text": [
      "<class 'pandas.core.frame.DataFrame'>\n",
      "RangeIndex: 45466 entries, 0 to 45465\n",
      "Data columns (total 24 columns):\n",
      " #   Column                 Non-Null Count  Dtype  \n",
      "---  ------                 --------------  -----  \n",
      " 0   adult                  45466 non-null  object \n",
      " 1   belongs_to_collection  4494 non-null   object \n",
      " 2   budget                 45466 non-null  object \n",
      " 3   genres                 45466 non-null  object \n",
      " 4   homepage               7782 non-null   object \n",
      " 5   id                     45466 non-null  object \n",
      " 6   imdb_id                45449 non-null  object \n",
      " 7   original_language      45455 non-null  object \n",
      " 8   original_title         45466 non-null  object \n",
      " 9   overview               44512 non-null  object \n",
      " 10  popularity             45461 non-null  object \n",
      " 11  poster_path            45080 non-null  object \n",
      " 12  production_companies   45463 non-null  object \n",
      " 13  production_countries   45463 non-null  object \n",
      " 14  release_date           45379 non-null  object \n",
      " 15  revenue                45460 non-null  float64\n",
      " 16  runtime                45203 non-null  float64\n",
      " 17  spoken_languages       45460 non-null  object \n",
      " 18  status                 45379 non-null  object \n",
      " 19  tagline                20412 non-null  object \n",
      " 20  title                  45460 non-null  object \n",
      " 21  video                  45460 non-null  object \n",
      " 22  vote_average           45460 non-null  float64\n",
      " 23  vote_count             45460 non-null  float64\n",
      "dtypes: float64(4), object(20)\n",
      "memory usage: 8.3+ MB\n"
     ]
    }
   ],
   "source": [
    "movies_md.info()"
   ]
  },
  {
   "cell_type": "code",
   "execution_count": 5,
   "id": "4a4881b5",
   "metadata": {},
   "outputs": [
    {
     "data": {
      "text/html": [
       "<div>\n",
       "<style scoped>\n",
       "    .dataframe tbody tr th:only-of-type {\n",
       "        vertical-align: middle;\n",
       "    }\n",
       "\n",
       "    .dataframe tbody tr th {\n",
       "        vertical-align: top;\n",
       "    }\n",
       "\n",
       "    .dataframe thead th {\n",
       "        text-align: right;\n",
       "    }\n",
       "</style>\n",
       "<table border=\"1\" class=\"dataframe\">\n",
       "  <thead>\n",
       "    <tr style=\"text-align: right;\">\n",
       "      <th></th>\n",
       "      <th>movieId</th>\n",
       "      <th>imdbId</th>\n",
       "      <th>tmdbId</th>\n",
       "    </tr>\n",
       "  </thead>\n",
       "  <tbody>\n",
       "    <tr>\n",
       "      <th>0</th>\n",
       "      <td>1</td>\n",
       "      <td>114709</td>\n",
       "      <td>862.0</td>\n",
       "    </tr>\n",
       "    <tr>\n",
       "      <th>1</th>\n",
       "      <td>2</td>\n",
       "      <td>113497</td>\n",
       "      <td>8844.0</td>\n",
       "    </tr>\n",
       "    <tr>\n",
       "      <th>2</th>\n",
       "      <td>3</td>\n",
       "      <td>113228</td>\n",
       "      <td>15602.0</td>\n",
       "    </tr>\n",
       "    <tr>\n",
       "      <th>3</th>\n",
       "      <td>4</td>\n",
       "      <td>114885</td>\n",
       "      <td>31357.0</td>\n",
       "    </tr>\n",
       "    <tr>\n",
       "      <th>4</th>\n",
       "      <td>5</td>\n",
       "      <td>113041</td>\n",
       "      <td>11862.0</td>\n",
       "    </tr>\n",
       "  </tbody>\n",
       "</table>\n",
       "</div>"
      ],
      "text/plain": [
       "   movieId  imdbId   tmdbId\n",
       "0        1  114709    862.0\n",
       "1        2  113497   8844.0\n",
       "2        3  113228  15602.0\n",
       "3        4  114885  31357.0\n",
       "4        5  113041  11862.0"
      ]
     },
     "execution_count": 5,
     "metadata": {},
     "output_type": "execute_result"
    }
   ],
   "source": [
    "movies_links.head()"
   ]
  },
  {
   "cell_type": "code",
   "execution_count": 6,
   "id": "0b1c747a",
   "metadata": {},
   "outputs": [
    {
     "name": "stdout",
     "output_type": "stream",
     "text": [
      "<class 'pandas.core.frame.DataFrame'>\n",
      "RangeIndex: 9125 entries, 0 to 9124\n",
      "Data columns (total 3 columns):\n",
      " #   Column   Non-Null Count  Dtype  \n",
      "---  ------   --------------  -----  \n",
      " 0   movieId  9125 non-null   int64  \n",
      " 1   imdbId   9125 non-null   int64  \n",
      " 2   tmdbId   9112 non-null   float64\n",
      "dtypes: float64(1), int64(2)\n",
      "memory usage: 214.0 KB\n"
     ]
    }
   ],
   "source": [
    "movies_links.info()"
   ]
  },
  {
   "cell_type": "code",
   "execution_count": 7,
   "id": "0442cc40",
   "metadata": {},
   "outputs": [
    {
     "data": {
      "text/html": [
       "<div>\n",
       "<style scoped>\n",
       "    .dataframe tbody tr th:only-of-type {\n",
       "        vertical-align: middle;\n",
       "    }\n",
       "\n",
       "    .dataframe tbody tr th {\n",
       "        vertical-align: top;\n",
       "    }\n",
       "\n",
       "    .dataframe thead th {\n",
       "        text-align: right;\n",
       "    }\n",
       "</style>\n",
       "<table border=\"1\" class=\"dataframe\">\n",
       "  <thead>\n",
       "    <tr style=\"text-align: right;\">\n",
       "      <th></th>\n",
       "      <th>cast</th>\n",
       "      <th>crew</th>\n",
       "      <th>id</th>\n",
       "    </tr>\n",
       "  </thead>\n",
       "  <tbody>\n",
       "    <tr>\n",
       "      <th>0</th>\n",
       "      <td>[{'cast_id': 14, 'character': 'Woody (voice)',...</td>\n",
       "      <td>[{'credit_id': '52fe4284c3a36847f8024f49', 'de...</td>\n",
       "      <td>862</td>\n",
       "    </tr>\n",
       "    <tr>\n",
       "      <th>1</th>\n",
       "      <td>[{'cast_id': 1, 'character': 'Alan Parrish', '...</td>\n",
       "      <td>[{'credit_id': '52fe44bfc3a36847f80a7cd1', 'de...</td>\n",
       "      <td>8844</td>\n",
       "    </tr>\n",
       "    <tr>\n",
       "      <th>2</th>\n",
       "      <td>[{'cast_id': 2, 'character': 'Max Goldman', 'c...</td>\n",
       "      <td>[{'credit_id': '52fe466a9251416c75077a89', 'de...</td>\n",
       "      <td>15602</td>\n",
       "    </tr>\n",
       "    <tr>\n",
       "      <th>3</th>\n",
       "      <td>[{'cast_id': 1, 'character': \"Savannah 'Vannah...</td>\n",
       "      <td>[{'credit_id': '52fe44779251416c91011acb', 'de...</td>\n",
       "      <td>31357</td>\n",
       "    </tr>\n",
       "    <tr>\n",
       "      <th>4</th>\n",
       "      <td>[{'cast_id': 1, 'character': 'George Banks', '...</td>\n",
       "      <td>[{'credit_id': '52fe44959251416c75039ed7', 'de...</td>\n",
       "      <td>11862</td>\n",
       "    </tr>\n",
       "  </tbody>\n",
       "</table>\n",
       "</div>"
      ],
      "text/plain": [
       "                                                cast  \\\n",
       "0  [{'cast_id': 14, 'character': 'Woody (voice)',...   \n",
       "1  [{'cast_id': 1, 'character': 'Alan Parrish', '...   \n",
       "2  [{'cast_id': 2, 'character': 'Max Goldman', 'c...   \n",
       "3  [{'cast_id': 1, 'character': \"Savannah 'Vannah...   \n",
       "4  [{'cast_id': 1, 'character': 'George Banks', '...   \n",
       "\n",
       "                                                crew     id  \n",
       "0  [{'credit_id': '52fe4284c3a36847f8024f49', 'de...    862  \n",
       "1  [{'credit_id': '52fe44bfc3a36847f80a7cd1', 'de...   8844  \n",
       "2  [{'credit_id': '52fe466a9251416c75077a89', 'de...  15602  \n",
       "3  [{'credit_id': '52fe44779251416c91011acb', 'de...  31357  \n",
       "4  [{'credit_id': '52fe44959251416c75039ed7', 'de...  11862  "
      ]
     },
     "execution_count": 7,
     "metadata": {},
     "output_type": "execute_result"
    }
   ],
   "source": [
    "movies_credits.head()"
   ]
  },
  {
   "cell_type": "code",
   "execution_count": 8,
   "id": "fd99b909",
   "metadata": {},
   "outputs": [
    {
     "name": "stdout",
     "output_type": "stream",
     "text": [
      "<class 'pandas.core.frame.DataFrame'>\n",
      "RangeIndex: 45476 entries, 0 to 45475\n",
      "Data columns (total 3 columns):\n",
      " #   Column  Non-Null Count  Dtype \n",
      "---  ------  --------------  ----- \n",
      " 0   cast    45476 non-null  object\n",
      " 1   crew    45476 non-null  object\n",
      " 2   id      45476 non-null  int64 \n",
      "dtypes: int64(1), object(2)\n",
      "memory usage: 1.0+ MB\n"
     ]
    }
   ],
   "source": [
    "movies_credits.info()"
   ]
  },
  {
   "cell_type": "code",
   "execution_count": 9,
   "id": "661ae4bf",
   "metadata": {},
   "outputs": [
    {
     "data": {
      "text/html": [
       "<div>\n",
       "<style scoped>\n",
       "    .dataframe tbody tr th:only-of-type {\n",
       "        vertical-align: middle;\n",
       "    }\n",
       "\n",
       "    .dataframe tbody tr th {\n",
       "        vertical-align: top;\n",
       "    }\n",
       "\n",
       "    .dataframe thead th {\n",
       "        text-align: right;\n",
       "    }\n",
       "</style>\n",
       "<table border=\"1\" class=\"dataframe\">\n",
       "  <thead>\n",
       "    <tr style=\"text-align: right;\">\n",
       "      <th></th>\n",
       "      <th>userId</th>\n",
       "      <th>movieId</th>\n",
       "      <th>rating</th>\n",
       "      <th>timestamp</th>\n",
       "    </tr>\n",
       "  </thead>\n",
       "  <tbody>\n",
       "    <tr>\n",
       "      <th>0</th>\n",
       "      <td>1</td>\n",
       "      <td>31</td>\n",
       "      <td>2.5</td>\n",
       "      <td>1260759144</td>\n",
       "    </tr>\n",
       "    <tr>\n",
       "      <th>1</th>\n",
       "      <td>1</td>\n",
       "      <td>1029</td>\n",
       "      <td>3.0</td>\n",
       "      <td>1260759179</td>\n",
       "    </tr>\n",
       "    <tr>\n",
       "      <th>2</th>\n",
       "      <td>1</td>\n",
       "      <td>1061</td>\n",
       "      <td>3.0</td>\n",
       "      <td>1260759182</td>\n",
       "    </tr>\n",
       "    <tr>\n",
       "      <th>3</th>\n",
       "      <td>1</td>\n",
       "      <td>1129</td>\n",
       "      <td>2.0</td>\n",
       "      <td>1260759185</td>\n",
       "    </tr>\n",
       "    <tr>\n",
       "      <th>4</th>\n",
       "      <td>1</td>\n",
       "      <td>1172</td>\n",
       "      <td>4.0</td>\n",
       "      <td>1260759205</td>\n",
       "    </tr>\n",
       "  </tbody>\n",
       "</table>\n",
       "</div>"
      ],
      "text/plain": [
       "   userId  movieId  rating   timestamp\n",
       "0       1       31     2.5  1260759144\n",
       "1       1     1029     3.0  1260759179\n",
       "2       1     1061     3.0  1260759182\n",
       "3       1     1129     2.0  1260759185\n",
       "4       1     1172     4.0  1260759205"
      ]
     },
     "execution_count": 9,
     "metadata": {},
     "output_type": "execute_result"
    }
   ],
   "source": [
    "movies_ratings.head()"
   ]
  },
  {
   "cell_type": "code",
   "execution_count": 10,
   "id": "fb1b8b25",
   "metadata": {},
   "outputs": [
    {
     "name": "stdout",
     "output_type": "stream",
     "text": [
      "<class 'pandas.core.frame.DataFrame'>\n",
      "RangeIndex: 100004 entries, 0 to 100003\n",
      "Data columns (total 4 columns):\n",
      " #   Column     Non-Null Count   Dtype  \n",
      "---  ------     --------------   -----  \n",
      " 0   userId     100004 non-null  int64  \n",
      " 1   movieId    100004 non-null  int64  \n",
      " 2   rating     100004 non-null  float64\n",
      " 3   timestamp  100004 non-null  int64  \n",
      "dtypes: float64(1), int64(3)\n",
      "memory usage: 3.1 MB\n"
     ]
    }
   ],
   "source": [
    "movies_ratings.info()"
   ]
  },
  {
   "cell_type": "code",
   "execution_count": 11,
   "id": "aa345ff8",
   "metadata": {},
   "outputs": [
    {
     "data": {
      "text/html": [
       "<div>\n",
       "<style scoped>\n",
       "    .dataframe tbody tr th:only-of-type {\n",
       "        vertical-align: middle;\n",
       "    }\n",
       "\n",
       "    .dataframe tbody tr th {\n",
       "        vertical-align: top;\n",
       "    }\n",
       "\n",
       "    .dataframe thead th {\n",
       "        text-align: right;\n",
       "    }\n",
       "</style>\n",
       "<table border=\"1\" class=\"dataframe\">\n",
       "  <thead>\n",
       "    <tr style=\"text-align: right;\">\n",
       "      <th></th>\n",
       "      <th>id</th>\n",
       "      <th>keywords</th>\n",
       "    </tr>\n",
       "  </thead>\n",
       "  <tbody>\n",
       "    <tr>\n",
       "      <th>0</th>\n",
       "      <td>862</td>\n",
       "      <td>[{'id': 931, 'name': 'jealousy'}, {'id': 4290,...</td>\n",
       "    </tr>\n",
       "    <tr>\n",
       "      <th>1</th>\n",
       "      <td>8844</td>\n",
       "      <td>[{'id': 10090, 'name': 'board game'}, {'id': 1...</td>\n",
       "    </tr>\n",
       "    <tr>\n",
       "      <th>2</th>\n",
       "      <td>15602</td>\n",
       "      <td>[{'id': 1495, 'name': 'fishing'}, {'id': 12392...</td>\n",
       "    </tr>\n",
       "    <tr>\n",
       "      <th>3</th>\n",
       "      <td>31357</td>\n",
       "      <td>[{'id': 818, 'name': 'based on novel'}, {'id':...</td>\n",
       "    </tr>\n",
       "    <tr>\n",
       "      <th>4</th>\n",
       "      <td>11862</td>\n",
       "      <td>[{'id': 1009, 'name': 'baby'}, {'id': 1599, 'n...</td>\n",
       "    </tr>\n",
       "  </tbody>\n",
       "</table>\n",
       "</div>"
      ],
      "text/plain": [
       "      id                                           keywords\n",
       "0    862  [{'id': 931, 'name': 'jealousy'}, {'id': 4290,...\n",
       "1   8844  [{'id': 10090, 'name': 'board game'}, {'id': 1...\n",
       "2  15602  [{'id': 1495, 'name': 'fishing'}, {'id': 12392...\n",
       "3  31357  [{'id': 818, 'name': 'based on novel'}, {'id':...\n",
       "4  11862  [{'id': 1009, 'name': 'baby'}, {'id': 1599, 'n..."
      ]
     },
     "execution_count": 11,
     "metadata": {},
     "output_type": "execute_result"
    }
   ],
   "source": [
    "movies_keywords.head()"
   ]
  },
  {
   "cell_type": "code",
   "execution_count": 12,
   "id": "bd509855",
   "metadata": {},
   "outputs": [
    {
     "name": "stdout",
     "output_type": "stream",
     "text": [
      "<class 'pandas.core.frame.DataFrame'>\n",
      "RangeIndex: 46419 entries, 0 to 46418\n",
      "Data columns (total 2 columns):\n",
      " #   Column    Non-Null Count  Dtype \n",
      "---  ------    --------------  ----- \n",
      " 0   id        46419 non-null  int64 \n",
      " 1   keywords  46419 non-null  object\n",
      "dtypes: int64(1), object(1)\n",
      "memory usage: 725.4+ KB\n"
     ]
    }
   ],
   "source": [
    "movies_keywords.info()"
   ]
  },
  {
   "cell_type": "code",
   "execution_count": 13,
   "id": "906b9bc4",
   "metadata": {},
   "outputs": [
    {
     "name": "stdout",
     "output_type": "stream",
     "text": [
      "<class 'pandas.core.frame.DataFrame'>\n",
      "Int64Index: 9112 entries, 0 to 9124\n",
      "Data columns (total 3 columns):\n",
      " #   Column   Non-Null Count  Dtype\n",
      "---  ------   --------------  -----\n",
      " 0   movieId  9112 non-null   int64\n",
      " 1   imdbId   9112 non-null   int64\n",
      " 2   id       9112 non-null   int32\n",
      "dtypes: int32(1), int64(2)\n",
      "memory usage: 249.2 KB\n"
     ]
    }
   ],
   "source": [
    "movies_links.rename(columns = {'tmdbId':'id'}, inplace = True)\n",
    "movies_links = movies_links[movies_links['id'].notnull()]\n",
    "movies_links['id'] = movies_links['id'].astype('int')\n",
    "movies_links.info()"
   ]
  },
  {
   "cell_type": "code",
   "execution_count": 14,
   "id": "cb75037b",
   "metadata": {},
   "outputs": [
    {
     "data": {
      "text/plain": [
       "<AxesSubplot:>"
      ]
     },
     "execution_count": 14,
     "metadata": {},
     "output_type": "execute_result"
    },
    {
     "data": {
      "image/png": "[encoded data removed]",
      "text/plain": [
       "<Figure size 432x288 with 2 Axes>"
      ]
     },
     "metadata": {
      "needs_background": "light"
     },
     "output_type": "display_data"
    }
   ],
   "source": [
    "sns.heatmap(movies_links.isnull())"
   ]
  },
  {
   "cell_type": "code",
   "execution_count": 15,
   "id": "e4d47ad8",
   "metadata": {},
   "outputs": [
    {
     "data": {
      "text/html": [
       "<div>\n",
       "<style scoped>\n",
       "    .dataframe tbody tr th:only-of-type {\n",
       "        vertical-align: middle;\n",
       "    }\n",
       "\n",
       "    .dataframe tbody tr th {\n",
       "        vertical-align: top;\n",
       "    }\n",
       "\n",
       "    .dataframe thead th {\n",
       "        text-align: right;\n",
       "    }\n",
       "</style>\n",
       "<table border=\"1\" class=\"dataframe\">\n",
       "  <thead>\n",
       "    <tr style=\"text-align: right;\">\n",
       "      <th></th>\n",
       "      <th>movieId</th>\n",
       "      <th>imdbId</th>\n",
       "      <th>id</th>\n",
       "    </tr>\n",
       "  </thead>\n",
       "  <tbody>\n",
       "    <tr>\n",
       "      <th>0</th>\n",
       "      <td>1</td>\n",
       "      <td>114709</td>\n",
       "      <td>862</td>\n",
       "    </tr>\n",
       "    <tr>\n",
       "      <th>1</th>\n",
       "      <td>2</td>\n",
       "      <td>113497</td>\n",
       "      <td>8844</td>\n",
       "    </tr>\n",
       "    <tr>\n",
       "      <th>2</th>\n",
       "      <td>3</td>\n",
       "      <td>113228</td>\n",
       "      <td>15602</td>\n",
       "    </tr>\n",
       "    <tr>\n",
       "      <th>3</th>\n",
       "      <td>4</td>\n",
       "      <td>114885</td>\n",
       "      <td>31357</td>\n",
       "    </tr>\n",
       "    <tr>\n",
       "      <th>4</th>\n",
       "      <td>5</td>\n",
       "      <td>113041</td>\n",
       "      <td>11862</td>\n",
       "    </tr>\n",
       "  </tbody>\n",
       "</table>\n",
       "</div>"
      ],
      "text/plain": [
       "   movieId  imdbId     id\n",
       "0        1  114709    862\n",
       "1        2  113497   8844\n",
       "2        3  113228  15602\n",
       "3        4  114885  31357\n",
       "4        5  113041  11862"
      ]
     },
     "execution_count": 15,
     "metadata": {},
     "output_type": "execute_result"
    }
   ],
   "source": [
    "movies_links.head()"
   ]
  },
  {
   "cell_type": "code",
   "execution_count": 16,
   "id": "d300646a",
   "metadata": {},
   "outputs": [],
   "source": [
    "#movies_md['id'] = movies_md['id'].astype('int')"
   ]
  },
  {
   "cell_type": "code",
   "execution_count": 17,
   "id": "e3002421",
   "metadata": {},
   "outputs": [
    {
     "data": {
      "text/html": [
       "<div>\n",
       "<style scoped>\n",
       "    .dataframe tbody tr th:only-of-type {\n",
       "        vertical-align: middle;\n",
       "    }\n",
       "\n",
       "    .dataframe tbody tr th {\n",
       "        vertical-align: top;\n",
       "    }\n",
       "\n",
       "    .dataframe thead th {\n",
       "        text-align: right;\n",
       "    }\n",
       "</style>\n",
       "<table border=\"1\" class=\"dataframe\">\n",
       "  <thead>\n",
       "    <tr style=\"text-align: right;\">\n",
       "      <th></th>\n",
       "      <th>adult</th>\n",
       "      <th>belongs_to_collection</th>\n",
       "      <th>budget</th>\n",
       "      <th>genres</th>\n",
       "      <th>homepage</th>\n",
       "      <th>id</th>\n",
       "      <th>imdb_id</th>\n",
       "      <th>original_language</th>\n",
       "      <th>original_title</th>\n",
       "      <th>overview</th>\n",
       "      <th>...</th>\n",
       "      <th>release_date</th>\n",
       "      <th>revenue</th>\n",
       "      <th>runtime</th>\n",
       "      <th>spoken_languages</th>\n",
       "      <th>status</th>\n",
       "      <th>tagline</th>\n",
       "      <th>title</th>\n",
       "      <th>video</th>\n",
       "      <th>vote_average</th>\n",
       "      <th>vote_count</th>\n",
       "    </tr>\n",
       "  </thead>\n",
       "  <tbody>\n",
       "    <tr>\n",
       "      <th>19730</th>\n",
       "      <td>- Written by Ørnås</td>\n",
       "      <td>0.065736</td>\n",
       "      <td>/ff9qCepilowshEtG2GYWwzt2bs4.jpg</td>\n",
       "      <td>[{'name': 'Carousel Productions', 'id': 11176}...</td>\n",
       "      <td>[{'iso_3166_1': 'CA', 'name': 'Canada'}, {'iso...</td>\n",
       "      <td>NaN</td>\n",
       "      <td>0</td>\n",
       "      <td>104.0</td>\n",
       "      <td>[{'iso_639_1': 'en', 'name': 'English'}]</td>\n",
       "      <td>Released</td>\n",
       "      <td>...</td>\n",
       "      <td>1</td>\n",
       "      <td>NaN</td>\n",
       "      <td>NaN</td>\n",
       "      <td>NaN</td>\n",
       "      <td>NaN</td>\n",
       "      <td>NaN</td>\n",
       "      <td>NaN</td>\n",
       "      <td>NaN</td>\n",
       "      <td>NaN</td>\n",
       "      <td>NaN</td>\n",
       "    </tr>\n",
       "    <tr>\n",
       "      <th>29503</th>\n",
       "      <td>Rune Balot goes to a casino connected to the ...</td>\n",
       "      <td>1.931659</td>\n",
       "      <td>/zV8bHuSL6WXoD6FWogP9j4x80bL.jpg</td>\n",
       "      <td>[{'name': 'Aniplex', 'id': 2883}, {'name': 'Go...</td>\n",
       "      <td>[{'iso_3166_1': 'US', 'name': 'United States o...</td>\n",
       "      <td>NaN</td>\n",
       "      <td>0</td>\n",
       "      <td>68.0</td>\n",
       "      <td>[{'iso_639_1': 'ja', 'name': '日本語'}]</td>\n",
       "      <td>Released</td>\n",
       "      <td>...</td>\n",
       "      <td>12</td>\n",
       "      <td>NaN</td>\n",
       "      <td>NaN</td>\n",
       "      <td>NaN</td>\n",
       "      <td>NaN</td>\n",
       "      <td>NaN</td>\n",
       "      <td>NaN</td>\n",
       "      <td>NaN</td>\n",
       "      <td>NaN</td>\n",
       "      <td>NaN</td>\n",
       "    </tr>\n",
       "    <tr>\n",
       "      <th>35587</th>\n",
       "      <td>Avalanche Sharks tells the story of a bikini ...</td>\n",
       "      <td>2.185485</td>\n",
       "      <td>/zaSf5OG7V8X8gqFvly88zDdRm46.jpg</td>\n",
       "      <td>[{'name': 'Odyssey Media', 'id': 17161}, {'nam...</td>\n",
       "      <td>[{'iso_3166_1': 'CA', 'name': 'Canada'}]</td>\n",
       "      <td>NaN</td>\n",
       "      <td>0</td>\n",
       "      <td>82.0</td>\n",
       "      <td>[{'iso_639_1': 'en', 'name': 'English'}]</td>\n",
       "      <td>Released</td>\n",
       "      <td>...</td>\n",
       "      <td>22</td>\n",
       "      <td>NaN</td>\n",
       "      <td>NaN</td>\n",
       "      <td>NaN</td>\n",
       "      <td>NaN</td>\n",
       "      <td>NaN</td>\n",
       "      <td>NaN</td>\n",
       "      <td>NaN</td>\n",
       "      <td>NaN</td>\n",
       "      <td>NaN</td>\n",
       "    </tr>\n",
       "  </tbody>\n",
       "</table>\n",
       "<p>3 rows × 24 columns</p>\n",
       "</div>"
      ],
      "text/plain": [
       "                                                   adult  \\\n",
       "19730                                 - Written by Ørnås   \n",
       "29503   Rune Balot goes to a casino connected to the ...   \n",
       "35587   Avalanche Sharks tells the story of a bikini ...   \n",
       "\n",
       "      belongs_to_collection                            budget  \\\n",
       "19730              0.065736  /ff9qCepilowshEtG2GYWwzt2bs4.jpg   \n",
       "29503              1.931659  /zV8bHuSL6WXoD6FWogP9j4x80bL.jpg   \n",
       "35587              2.185485  /zaSf5OG7V8X8gqFvly88zDdRm46.jpg   \n",
       "\n",
       "                                                  genres  \\\n",
       "19730  [{'name': 'Carousel Productions', 'id': 11176}...   \n",
       "29503  [{'name': 'Aniplex', 'id': 2883}, {'name': 'Go...   \n",
       "35587  [{'name': 'Odyssey Media', 'id': 17161}, {'nam...   \n",
       "\n",
       "                                                homepage  id imdb_id  \\\n",
       "19730  [{'iso_3166_1': 'CA', 'name': 'Canada'}, {'iso... NaN       0   \n",
       "29503  [{'iso_3166_1': 'US', 'name': 'United States o... NaN       0   \n",
       "35587           [{'iso_3166_1': 'CA', 'name': 'Canada'}] NaN       0   \n",
       "\n",
       "      original_language                            original_title  overview  \\\n",
       "19730             104.0  [{'iso_639_1': 'en', 'name': 'English'}]  Released   \n",
       "29503              68.0      [{'iso_639_1': 'ja', 'name': '日本語'}]  Released   \n",
       "35587              82.0  [{'iso_639_1': 'en', 'name': 'English'}]  Released   \n",
       "\n",
       "       ... release_date revenue runtime spoken_languages status  tagline  \\\n",
       "19730  ...            1     NaN     NaN              NaN    NaN      NaN   \n",
       "29503  ...           12     NaN     NaN              NaN    NaN      NaN   \n",
       "35587  ...           22     NaN     NaN              NaN    NaN      NaN   \n",
       "\n",
       "       title video vote_average vote_count  \n",
       "19730    NaN   NaN          NaN        NaN  \n",
       "29503    NaN   NaN          NaN        NaN  \n",
       "35587    NaN   NaN          NaN        NaN  \n",
       "\n",
       "[3 rows x 24 columns]"
      ]
     },
     "execution_count": 17,
     "metadata": {},
     "output_type": "execute_result"
    }
   ],
   "source": [
    "def convert_int(x):\n",
    "    try:\n",
    "        return int(x)\n",
    "    except:\n",
    "        return np.nan\n",
    "    \n",
    "movies_md['id'] = movies_md['id'].apply(convert_int)\n",
    "movies_md[movies_md['id'].isnull()]"
   ]
  },
  {
   "cell_type": "code",
   "execution_count": 18,
   "id": "9db3b336",
   "metadata": {},
   "outputs": [],
   "source": [
    "movies_md.drop([19730,29503,35587],inplace=True)"
   ]
  },
  {
   "cell_type": "code",
   "execution_count": 19,
   "id": "d3ce30fe",
   "metadata": {},
   "outputs": [
    {
     "data": {
      "text/plain": [
       "(45463, 24)"
      ]
     },
     "execution_count": 19,
     "metadata": {},
     "output_type": "execute_result"
    }
   ],
   "source": [
    "movies_md.shape"
   ]
  },
  {
   "cell_type": "code",
   "execution_count": 20,
   "id": "173a59d9",
   "metadata": {},
   "outputs": [],
   "source": [
    "movies_md.drop_duplicates(subset = ['id'],inplace=True)"
   ]
  },
  {
   "cell_type": "code",
   "execution_count": 21,
   "id": "8d04cead",
   "metadata": {},
   "outputs": [
    {
     "data": {
      "text/plain": [
       "(45433, 24)"
      ]
     },
     "execution_count": 21,
     "metadata": {},
     "output_type": "execute_result"
    }
   ],
   "source": [
    "movies_md.shape"
   ]
  },
  {
   "cell_type": "code",
   "execution_count": 22,
   "id": "2eb5b11f",
   "metadata": {},
   "outputs": [],
   "source": [
    "movies_smd = pd.merge(movies_links, movies_md, on = 'id',how='left')"
   ]
  },
  {
   "cell_type": "code",
   "execution_count": 23,
   "id": "12552370",
   "metadata": {},
   "outputs": [
    {
     "data": {
      "text/plain": [
       "(9112, 26)"
      ]
     },
     "execution_count": 23,
     "metadata": {},
     "output_type": "execute_result"
    }
   ],
   "source": [
    "movies_smd.shape"
   ]
  },
  {
   "cell_type": "code",
   "execution_count": 24,
   "id": "552205bf",
   "metadata": {},
   "outputs": [
    {
     "data": {
      "text/plain": [
       "<AxesSubplot:>"
      ]
     },
     "execution_count": 24,
     "metadata": {},
     "output_type": "execute_result"
    },
    {
     "data": {
      "image/png": "[encoded data removed]",
      "text/plain": [
       "<Figure size 864x576 with 2 Axes>"
      ]
     },
     "metadata": {
      "needs_background": "light"
     },
     "output_type": "display_data"
    }
   ],
   "source": [
    "plt.figure(figsize=(12,8))\n",
    "sns.heatmap(movies_smd.isnull())"
   ]
  },
  {
   "cell_type": "code",
   "execution_count": 25,
   "id": "f8118358",
   "metadata": {},
   "outputs": [],
   "source": [
    "#sns.countplot(movies_credits.duplicated(subset=['id']))"
   ]
  },
  {
   "cell_type": "code",
   "execution_count": 26,
   "id": "e391954d",
   "metadata": {},
   "outputs": [
    {
     "data": {
      "text/plain": [
       "Index(['movieId', 'imdbId', 'id', 'adult', 'belongs_to_collection', 'budget',\n",
       "       'genres', 'homepage', 'imdb_id', 'original_language', 'original_title',\n",
       "       'overview', 'popularity', 'poster_path', 'production_companies',\n",
       "       'production_countries', 'release_date', 'revenue', 'runtime',\n",
       "       'spoken_languages', 'status', 'tagline', 'title', 'video',\n",
       "       'vote_average', 'vote_count'],\n",
       "      dtype='object')"
      ]
     },
     "execution_count": 26,
     "metadata": {},
     "output_type": "execute_result"
    }
   ],
   "source": [
    "movies_smd.columns"
   ]
  },
  {
   "cell_type": "code",
   "execution_count": 27,
   "id": "655685ef",
   "metadata": {},
   "outputs": [
    {
     "data": {
      "text/html": [
       "<div>\n",
       "<style scoped>\n",
       "    .dataframe tbody tr th:only-of-type {\n",
       "        vertical-align: middle;\n",
       "    }\n",
       "\n",
       "    .dataframe tbody tr th {\n",
       "        vertical-align: top;\n",
       "    }\n",
       "\n",
       "    .dataframe thead th {\n",
       "        text-align: right;\n",
       "    }\n",
       "</style>\n",
       "<table border=\"1\" class=\"dataframe\">\n",
       "  <thead>\n",
       "    <tr style=\"text-align: right;\">\n",
       "      <th></th>\n",
       "      <th>movieId</th>\n",
       "      <th>id</th>\n",
       "      <th>genres</th>\n",
       "      <th>title</th>\n",
       "    </tr>\n",
       "  </thead>\n",
       "  <tbody>\n",
       "    <tr>\n",
       "      <th>0</th>\n",
       "      <td>1</td>\n",
       "      <td>862</td>\n",
       "      <td>[{'id': 16, 'name': 'Animation'}, {'id': 35, '...</td>\n",
       "      <td>Toy Story</td>\n",
       "    </tr>\n",
       "    <tr>\n",
       "      <th>1</th>\n",
       "      <td>2</td>\n",
       "      <td>8844</td>\n",
       "      <td>[{'id': 12, 'name': 'Adventure'}, {'id': 14, '...</td>\n",
       "      <td>Jumanji</td>\n",
       "    </tr>\n",
       "    <tr>\n",
       "      <th>2</th>\n",
       "      <td>3</td>\n",
       "      <td>15602</td>\n",
       "      <td>[{'id': 10749, 'name': 'Romance'}, {'id': 35, ...</td>\n",
       "      <td>Grumpier Old Men</td>\n",
       "    </tr>\n",
       "    <tr>\n",
       "      <th>3</th>\n",
       "      <td>4</td>\n",
       "      <td>31357</td>\n",
       "      <td>[{'id': 35, 'name': 'Comedy'}, {'id': 18, 'nam...</td>\n",
       "      <td>Waiting to Exhale</td>\n",
       "    </tr>\n",
       "    <tr>\n",
       "      <th>4</th>\n",
       "      <td>5</td>\n",
       "      <td>11862</td>\n",
       "      <td>[{'id': 35, 'name': 'Comedy'}]</td>\n",
       "      <td>Father of the Bride Part II</td>\n",
       "    </tr>\n",
       "  </tbody>\n",
       "</table>\n",
       "</div>"
      ],
      "text/plain": [
       "   movieId     id                                             genres  \\\n",
       "0        1    862  [{'id': 16, 'name': 'Animation'}, {'id': 35, '...   \n",
       "1        2   8844  [{'id': 12, 'name': 'Adventure'}, {'id': 14, '...   \n",
       "2        3  15602  [{'id': 10749, 'name': 'Romance'}, {'id': 35, ...   \n",
       "3        4  31357  [{'id': 35, 'name': 'Comedy'}, {'id': 18, 'nam...   \n",
       "4        5  11862                     [{'id': 35, 'name': 'Comedy'}]   \n",
       "\n",
       "                         title  \n",
       "0                    Toy Story  \n",
       "1                      Jumanji  \n",
       "2             Grumpier Old Men  \n",
       "3            Waiting to Exhale  \n",
       "4  Father of the Bride Part II  "
      ]
     },
     "execution_count": 27,
     "metadata": {},
     "output_type": "execute_result"
    }
   ],
   "source": [
    "movies_smd = movies_smd[['movieId','id','genres','title',]]\n",
    "movies_smd.head()"
   ]
  },
  {
   "cell_type": "code",
   "execution_count": 28,
   "id": "68d1b235",
   "metadata": {},
   "outputs": [
    {
     "data": {
      "text/html": [
       "<div>\n",
       "<style scoped>\n",
       "    .dataframe tbody tr th:only-of-type {\n",
       "        vertical-align: middle;\n",
       "    }\n",
       "\n",
       "    .dataframe tbody tr th {\n",
       "        vertical-align: top;\n",
       "    }\n",
       "\n",
       "    .dataframe thead th {\n",
       "        text-align: right;\n",
       "    }\n",
       "</style>\n",
       "<table border=\"1\" class=\"dataframe\">\n",
       "  <thead>\n",
       "    <tr style=\"text-align: right;\">\n",
       "      <th></th>\n",
       "      <th>movieId</th>\n",
       "      <th>id</th>\n",
       "      <th>genres</th>\n",
       "      <th>title</th>\n",
       "      <th>cast</th>\n",
       "      <th>crew</th>\n",
       "    </tr>\n",
       "  </thead>\n",
       "  <tbody>\n",
       "    <tr>\n",
       "      <th>0</th>\n",
       "      <td>1</td>\n",
       "      <td>862</td>\n",
       "      <td>[{'id': 16, 'name': 'Animation'}, {'id': 35, '...</td>\n",
       "      <td>Toy Story</td>\n",
       "      <td>[{'cast_id': 14, 'character': 'Woody (voice)',...</td>\n",
       "      <td>[{'credit_id': '52fe4284c3a36847f8024f49', 'de...</td>\n",
       "    </tr>\n",
       "    <tr>\n",
       "      <th>1</th>\n",
       "      <td>2</td>\n",
       "      <td>8844</td>\n",
       "      <td>[{'id': 12, 'name': 'Adventure'}, {'id': 14, '...</td>\n",
       "      <td>Jumanji</td>\n",
       "      <td>[{'cast_id': 1, 'character': 'Alan Parrish', '...</td>\n",
       "      <td>[{'credit_id': '52fe44bfc3a36847f80a7cd1', 'de...</td>\n",
       "    </tr>\n",
       "    <tr>\n",
       "      <th>2</th>\n",
       "      <td>3</td>\n",
       "      <td>15602</td>\n",
       "      <td>[{'id': 10749, 'name': 'Romance'}, {'id': 35, ...</td>\n",
       "      <td>Grumpier Old Men</td>\n",
       "      <td>[{'cast_id': 2, 'character': 'Max Goldman', 'c...</td>\n",
       "      <td>[{'credit_id': '52fe466a9251416c75077a89', 'de...</td>\n",
       "    </tr>\n",
       "    <tr>\n",
       "      <th>3</th>\n",
       "      <td>4</td>\n",
       "      <td>31357</td>\n",
       "      <td>[{'id': 35, 'name': 'Comedy'}, {'id': 18, 'nam...</td>\n",
       "      <td>Waiting to Exhale</td>\n",
       "      <td>[{'cast_id': 1, 'character': \"Savannah 'Vannah...</td>\n",
       "      <td>[{'credit_id': '52fe44779251416c91011acb', 'de...</td>\n",
       "    </tr>\n",
       "    <tr>\n",
       "      <th>4</th>\n",
       "      <td>5</td>\n",
       "      <td>11862</td>\n",
       "      <td>[{'id': 35, 'name': 'Comedy'}]</td>\n",
       "      <td>Father of the Bride Part II</td>\n",
       "      <td>[{'cast_id': 1, 'character': 'George Banks', '...</td>\n",
       "      <td>[{'credit_id': '52fe44959251416c75039ed7', 'de...</td>\n",
       "    </tr>\n",
       "  </tbody>\n",
       "</table>\n",
       "</div>"
      ],
      "text/plain": [
       "   movieId     id                                             genres  \\\n",
       "0        1    862  [{'id': 16, 'name': 'Animation'}, {'id': 35, '...   \n",
       "1        2   8844  [{'id': 12, 'name': 'Adventure'}, {'id': 14, '...   \n",
       "2        3  15602  [{'id': 10749, 'name': 'Romance'}, {'id': 35, ...   \n",
       "3        4  31357  [{'id': 35, 'name': 'Comedy'}, {'id': 18, 'nam...   \n",
       "4        5  11862                     [{'id': 35, 'name': 'Comedy'}]   \n",
       "\n",
       "                         title  \\\n",
       "0                    Toy Story   \n",
       "1                      Jumanji   \n",
       "2             Grumpier Old Men   \n",
       "3            Waiting to Exhale   \n",
       "4  Father of the Bride Part II   \n",
       "\n",
       "                                                cast  \\\n",
       "0  [{'cast_id': 14, 'character': 'Woody (voice)',...   \n",
       "1  [{'cast_id': 1, 'character': 'Alan Parrish', '...   \n",
       "2  [{'cast_id': 2, 'character': 'Max Goldman', 'c...   \n",
       "3  [{'cast_id': 1, 'character': \"Savannah 'Vannah...   \n",
       "4  [{'cast_id': 1, 'character': 'George Banks', '...   \n",
       "\n",
       "                                                crew  \n",
       "0  [{'credit_id': '52fe4284c3a36847f8024f49', 'de...  \n",
       "1  [{'credit_id': '52fe44bfc3a36847f80a7cd1', 'de...  \n",
       "2  [{'credit_id': '52fe466a9251416c75077a89', 'de...  \n",
       "3  [{'credit_id': '52fe44779251416c91011acb', 'de...  \n",
       "4  [{'credit_id': '52fe44959251416c75039ed7', 'de...  "
      ]
     },
     "execution_count": 28,
     "metadata": {},
     "output_type": "execute_result"
    }
   ],
   "source": [
    "movies_credits.drop_duplicates(subset = ['id'],inplace=True)\n",
    "movies_smd = pd.merge(movies_smd, movies_credits, on = 'id',how='left')\n",
    "movies_smd.head()"
   ]
  },
  {
   "cell_type": "code",
   "execution_count": 29,
   "id": "5633c9f4",
   "metadata": {},
   "outputs": [
    {
     "data": {
      "text/plain": [
       "<AxesSubplot:>"
      ]
     },
     "execution_count": 29,
     "metadata": {},
     "output_type": "execute_result"
    },
    {
     "data": {
      "image/png": "[encoded data removed]",
      "text/plain": [
       "<Figure size 864x576 with 2 Axes>"
      ]
     },
     "metadata": {
      "needs_background": "light"
     },
     "output_type": "display_data"
    }
   ],
   "source": [
    "plt.figure(figsize=(12,8))\n",
    "sns.heatmap(movies_smd.isnull())"
   ]
  },
  {
   "cell_type": "code",
   "execution_count": 30,
   "id": "89755114",
   "metadata": {},
   "outputs": [
    {
     "name": "stdout",
     "output_type": "stream",
     "text": [
      "<class 'pandas.core.frame.DataFrame'>\n",
      "Int64Index: 9082 entries, 0 to 9109\n",
      "Data columns (total 6 columns):\n",
      " #   Column   Non-Null Count  Dtype \n",
      "---  ------   --------------  ----- \n",
      " 0   movieId  9082 non-null   int64 \n",
      " 1   id       9082 non-null   int32 \n",
      " 2   genres   9082 non-null   object\n",
      " 3   title    9082 non-null   object\n",
      " 4   cast     9082 non-null   object\n",
      " 5   crew     9082 non-null   object\n",
      "dtypes: int32(1), int64(1), object(4)\n",
      "memory usage: 461.2+ KB\n"
     ]
    }
   ],
   "source": [
    "movies_smd.dropna(inplace=True)\n",
    "movies_smd.info()"
   ]
  },
  {
   "cell_type": "code",
   "execution_count": 31,
   "id": "5cfe4e5c",
   "metadata": {},
   "outputs": [
    {
     "data": {
      "text/html": [
       "<div>\n",
       "<style scoped>\n",
       "    .dataframe tbody tr th:only-of-type {\n",
       "        vertical-align: middle;\n",
       "    }\n",
       "\n",
       "    .dataframe tbody tr th {\n",
       "        vertical-align: top;\n",
       "    }\n",
       "\n",
       "    .dataframe thead th {\n",
       "        text-align: right;\n",
       "    }\n",
       "</style>\n",
       "<table border=\"1\" class=\"dataframe\">\n",
       "  <thead>\n",
       "    <tr style=\"text-align: right;\">\n",
       "      <th></th>\n",
       "      <th>movieId</th>\n",
       "      <th>title</th>\n",
       "      <th>genre</th>\n",
       "      <th>actor</th>\n",
       "      <th>director</th>\n",
       "    </tr>\n",
       "  </thead>\n",
       "  <tbody>\n",
       "    <tr>\n",
       "      <th>0</th>\n",
       "      <td>1</td>\n",
       "      <td>Toy Story</td>\n",
       "      <td>[Animation, Comedy, Family]</td>\n",
       "      <td>[Tom Hanks, Tim Allen, Don Rickles, Jim Varney...</td>\n",
       "      <td>John Lasseter</td>\n",
       "    </tr>\n",
       "    <tr>\n",
       "      <th>1</th>\n",
       "      <td>2</td>\n",
       "      <td>Jumanji</td>\n",
       "      <td>[Adventure, Fantasy, Family]</td>\n",
       "      <td>[Robin Williams, Jonathan Hyde, Kirsten Dunst,...</td>\n",
       "      <td>Joe Johnston</td>\n",
       "    </tr>\n",
       "    <tr>\n",
       "      <th>2</th>\n",
       "      <td>3</td>\n",
       "      <td>Grumpier Old Men</td>\n",
       "      <td>[Romance, Comedy]</td>\n",
       "      <td>[Walter Matthau, Jack Lemmon, Ann-Margret, Sop...</td>\n",
       "      <td>Howard Deutch</td>\n",
       "    </tr>\n",
       "    <tr>\n",
       "      <th>3</th>\n",
       "      <td>4</td>\n",
       "      <td>Waiting to Exhale</td>\n",
       "      <td>[Comedy, Drama, Romance]</td>\n",
       "      <td>[Whitney Houston, Angela Bassett, Loretta Devi...</td>\n",
       "      <td>Forest Whitaker</td>\n",
       "    </tr>\n",
       "    <tr>\n",
       "      <th>4</th>\n",
       "      <td>5</td>\n",
       "      <td>Father of the Bride Part II</td>\n",
       "      <td>[Comedy]</td>\n",
       "      <td>[Steve Martin, Diane Keaton, Martin Short, Kim...</td>\n",
       "      <td>Charles Shyer</td>\n",
       "    </tr>\n",
       "  </tbody>\n",
       "</table>\n",
       "</div>"
      ],
      "text/plain": [
       "   movieId                        title                         genre  \\\n",
       "0        1                    Toy Story   [Animation, Comedy, Family]   \n",
       "1        2                      Jumanji  [Adventure, Fantasy, Family]   \n",
       "2        3             Grumpier Old Men             [Romance, Comedy]   \n",
       "3        4            Waiting to Exhale      [Comedy, Drama, Romance]   \n",
       "4        5  Father of the Bride Part II                      [Comedy]   \n",
       "\n",
       "                                               actor         director  \n",
       "0  [Tom Hanks, Tim Allen, Don Rickles, Jim Varney...    John Lasseter  \n",
       "1  [Robin Williams, Jonathan Hyde, Kirsten Dunst,...     Joe Johnston  \n",
       "2  [Walter Matthau, Jack Lemmon, Ann-Margret, Sop...    Howard Deutch  \n",
       "3  [Whitney Houston, Angela Bassett, Loretta Devi...  Forest Whitaker  \n",
       "4  [Steve Martin, Diane Keaton, Martin Short, Kim...    Charles Shyer  "
      ]
     },
     "execution_count": 31,
     "metadata": {},
     "output_type": "execute_result"
    }
   ],
   "source": [
    "movies_smd['genre'] = movies_smd['genres'].apply(lambda x: [i['name'] for i in eval(x)])\n",
    "movies_smd['actor']=movies_smd['cast'].apply(lambda x: [i['name'] for i in eval(x)])\n",
    "\n",
    "def director(col):\n",
    "    for i in eval(col):\n",
    "        if i['job']=='Director':\n",
    "            return i['name']\n",
    "\n",
    "movies_smd['director']=movies_smd['crew'].apply(director)\n",
    "movies_smd.drop(['id','genres','cast','crew'],inplace = True,axis=1)\n",
    "movies_smd.head()"
   ]
  },
  {
   "cell_type": "code",
   "execution_count": 37,
   "id": "67901f3e",
   "metadata": {},
   "outputs": [
    {
     "name": "stdout",
     "output_type": "stream",
     "text": [
      "<class 'pandas.core.frame.DataFrame'>\n",
      "Int64Index: 9082 entries, 0 to 9109\n",
      "Data columns (total 5 columns):\n",
      " #   Column    Non-Null Count  Dtype \n",
      "---  ------    --------------  ----- \n",
      " 0   movieId   9082 non-null   int64 \n",
      " 1   title     9082 non-null   object\n",
      " 2   genre     9082 non-null   object\n",
      " 3   actor     9082 non-null   object\n",
      " 4   director  9058 non-null   object\n",
      "dtypes: int64(1), object(4)\n",
      "memory usage: 425.7+ KB\n"
     ]
    }
   ],
   "source": [
    "movies_smd.info()"
   ]
  },
  {
   "cell_type": "code",
   "execution_count": 32,
   "id": "65b8d2bf",
   "metadata": {},
   "outputs": [],
   "source": [
    "users_df = pd.DataFrame(movies_ratings['userId'].unique(), columns=['userId'])\n",
    "ratings_df = movies_ratings.drop('timestamp',axis=1)"
   ]
  },
  {
   "cell_type": "code",
   "execution_count": 33,
   "id": "8845c0de",
   "metadata": {},
   "outputs": [],
   "source": [
    "movies_df = movies_smd[['movieId','title']]"
   ]
  },
  {
   "cell_type": "code",
   "execution_count": 34,
   "id": "ef35fab6",
   "metadata": {},
   "outputs": [
    {
     "data": {
      "text/html": [
       "<div>\n",
       "<style scoped>\n",
       "    .dataframe tbody tr th:only-of-type {\n",
       "        vertical-align: middle;\n",
       "    }\n",
       "\n",
       "    .dataframe tbody tr th {\n",
       "        vertical-align: top;\n",
       "    }\n",
       "\n",
       "    .dataframe thead th {\n",
       "        text-align: right;\n",
       "    }\n",
       "</style>\n",
       "<table border=\"1\" class=\"dataframe\">\n",
       "  <thead>\n",
       "    <tr style=\"text-align: right;\">\n",
       "      <th></th>\n",
       "      <th>movieId</th>\n",
       "      <th>genre</th>\n",
       "    </tr>\n",
       "  </thead>\n",
       "  <tbody>\n",
       "    <tr>\n",
       "      <th>0</th>\n",
       "      <td>1</td>\n",
       "      <td>Animation</td>\n",
       "    </tr>\n",
       "    <tr>\n",
       "      <th>1</th>\n",
       "      <td>1</td>\n",
       "      <td>Comedy</td>\n",
       "    </tr>\n",
       "    <tr>\n",
       "      <th>2</th>\n",
       "      <td>1</td>\n",
       "      <td>Family</td>\n",
       "    </tr>\n",
       "    <tr>\n",
       "      <th>0</th>\n",
       "      <td>2</td>\n",
       "      <td>Adventure</td>\n",
       "    </tr>\n",
       "    <tr>\n",
       "      <th>1</th>\n",
       "      <td>2</td>\n",
       "      <td>Fantasy</td>\n",
       "    </tr>\n",
       "  </tbody>\n",
       "</table>\n",
       "</div>"
      ],
      "text/plain": [
       "  movieId      genre\n",
       "0       1  Animation\n",
       "1       1     Comedy\n",
       "2       1     Family\n",
       "0       2  Adventure\n",
       "1       2    Fantasy"
      ]
     },
     "execution_count": 34,
     "metadata": {},
     "output_type": "execute_result"
    }
   ],
   "source": [
    "movies_genres = movies_smd[['movieId','genre']]\n",
    "\n",
    "#define a function to split genres field\n",
    "def get_movie_genres(movieId):\n",
    "    movie = movies_genres[movies_genres['movieId']==movieId]\n",
    "    genre = movie['genre'].tolist()\n",
    "    df = pd.DataFrame([b for a in genre for b in a], columns=['genre'])\n",
    "    df.insert(loc=0, column='movieId', value=movieId)\n",
    "    return df\n",
    "\n",
    "#create empty df\n",
    "movies_genres_df = pd.DataFrame(columns=['movieId','genre'])\n",
    "for x in movies_genres['movieId'].tolist():\n",
    "    movies_genres_df=movies_genres_df.append(get_movie_genres(x))\n",
    "movies_genres_df.head()"
   ]
  },
  {
   "cell_type": "code",
   "execution_count": 36,
   "id": "f6006c3d",
   "metadata": {},
   "outputs": [
    {
     "data": {
      "text/plain": [
       "(9047, 1)"
      ]
     },
     "execution_count": 36,
     "metadata": {},
     "output_type": "execute_result"
    }
   ],
   "source": [
    "pd.DataFrame(movies_genres_df['movieId'].unique()).shape"
   ]
  },
  {
   "cell_type": "code",
   "execution_count": null,
   "id": "dcd13d86",
   "metadata": {},
   "outputs": [],
   "source": []
  },
  {
   "cell_type": "code",
   "execution_count": null,
   "id": "5fa492b0",
   "metadata": {},
   "outputs": [],
   "source": []
  },
  {
   "cell_type": "code",
   "execution_count": null,
   "id": "80b7b1e2",
   "metadata": {},
   "outputs": [],
   "source": []
  },
  {
   "cell_type": "code",
   "execution_count": 59,
   "id": "c2078524",
   "metadata": {},
   "outputs": [],
   "source": [
    "ratings_df = ratings_df[ratings_df['movieId'].isin(movies_genres_df['movieId'])]"
   ]
  },
  {
   "cell_type": "code",
   "execution_count": 36,
   "id": "b2d23fd0",
   "metadata": {},
   "outputs": [],
   "source": [
    "genres_df = pd.DataFrame(movies_genres_df['genre'].unique(), columns=['genre'])"
   ]
  },
  {
   "cell_type": "code",
   "execution_count": 37,
   "id": "6ea9c193",
   "metadata": {},
   "outputs": [
    {
     "data": {
      "text/html": [
       "<div>\n",
       "<style scoped>\n",
       "    .dataframe tbody tr th:only-of-type {\n",
       "        vertical-align: middle;\n",
       "    }\n",
       "\n",
       "    .dataframe tbody tr th {\n",
       "        vertical-align: top;\n",
       "    }\n",
       "\n",
       "    .dataframe thead th {\n",
       "        text-align: right;\n",
       "    }\n",
       "</style>\n",
       "<table border=\"1\" class=\"dataframe\">\n",
       "  <thead>\n",
       "    <tr style=\"text-align: right;\">\n",
       "      <th></th>\n",
       "      <th>movieId</th>\n",
       "      <th>actor</th>\n",
       "    </tr>\n",
       "  </thead>\n",
       "  <tbody>\n",
       "    <tr>\n",
       "      <th>0</th>\n",
       "      <td>1</td>\n",
       "      <td>Tom Hanks</td>\n",
       "    </tr>\n",
       "    <tr>\n",
       "      <th>1</th>\n",
       "      <td>1</td>\n",
       "      <td>Tim Allen</td>\n",
       "    </tr>\n",
       "    <tr>\n",
       "      <th>2</th>\n",
       "      <td>1</td>\n",
       "      <td>Don Rickles</td>\n",
       "    </tr>\n",
       "    <tr>\n",
       "      <th>3</th>\n",
       "      <td>1</td>\n",
       "      <td>Jim Varney</td>\n",
       "    </tr>\n",
       "    <tr>\n",
       "      <th>4</th>\n",
       "      <td>1</td>\n",
       "      <td>Wallace Shawn</td>\n",
       "    </tr>\n",
       "  </tbody>\n",
       "</table>\n",
       "</div>"
      ],
      "text/plain": [
       "  movieId          actor\n",
       "0       1      Tom Hanks\n",
       "1       1      Tim Allen\n",
       "2       1    Don Rickles\n",
       "3       1     Jim Varney\n",
       "4       1  Wallace Shawn"
      ]
     },
     "execution_count": 37,
     "metadata": {},
     "output_type": "execute_result"
    }
   ],
   "source": [
    "movies_actors = movies_smd[['movieId','actor']]\n",
    "\n",
    "#define a function to split actors\n",
    "def get_movie_actors(movieId):\n",
    "    movie = movies_actors[movies_actors['movieId']==movieId]\n",
    "    actor = movie['actor'].tolist()\n",
    "    df = pd.DataFrame([b for a in actor for b in a], columns=['actor'])\n",
    "    df.insert(loc=0, column='movieId', value=movieId)\n",
    "    return df\n",
    "\n",
    "#create empty df\n",
    "movies_actors_df = pd.DataFrame(columns=['movieId','actor'])\n",
    "for x in movies_actors['movieId'].tolist():\n",
    "    movies_actors_df=movies_actors_df.append(get_movie_actors(x))\n",
    "movies_actors_df.head()"
   ]
  },
  {
   "cell_type": "code",
   "execution_count": 38,
   "id": "665cef0e",
   "metadata": {},
   "outputs": [
    {
     "data": {
      "text/html": [
       "<div>\n",
       "<style scoped>\n",
       "    .dataframe tbody tr th:only-of-type {\n",
       "        vertical-align: middle;\n",
       "    }\n",
       "\n",
       "    .dataframe tbody tr th {\n",
       "        vertical-align: top;\n",
       "    }\n",
       "\n",
       "    .dataframe thead th {\n",
       "        text-align: right;\n",
       "    }\n",
       "</style>\n",
       "<table border=\"1\" class=\"dataframe\">\n",
       "  <thead>\n",
       "    <tr style=\"text-align: right;\">\n",
       "      <th></th>\n",
       "      <th>actor</th>\n",
       "    </tr>\n",
       "  </thead>\n",
       "  <tbody>\n",
       "    <tr>\n",
       "      <th>0</th>\n",
       "      <td>Tom Hanks</td>\n",
       "    </tr>\n",
       "    <tr>\n",
       "      <th>1</th>\n",
       "      <td>Tim Allen</td>\n",
       "    </tr>\n",
       "    <tr>\n",
       "      <th>2</th>\n",
       "      <td>Don Rickles</td>\n",
       "    </tr>\n",
       "    <tr>\n",
       "      <th>3</th>\n",
       "      <td>Jim Varney</td>\n",
       "    </tr>\n",
       "    <tr>\n",
       "      <th>4</th>\n",
       "      <td>Wallace Shawn</td>\n",
       "    </tr>\n",
       "  </tbody>\n",
       "</table>\n",
       "</div>"
      ],
      "text/plain": [
       "           actor\n",
       "0      Tom Hanks\n",
       "1      Tim Allen\n",
       "2    Don Rickles\n",
       "3     Jim Varney\n",
       "4  Wallace Shawn"
      ]
     },
     "execution_count": 38,
     "metadata": {},
     "output_type": "execute_result"
    }
   ],
   "source": [
    "actors_df = pd.DataFrame(movies_actors_df['actor'].unique(), columns=['actor'])\n",
    "actors_df.head()"
   ]
  },
  {
   "cell_type": "code",
   "execution_count": 39,
   "id": "b8bbd15e",
   "metadata": {},
   "outputs": [
    {
     "name": "stderr",
     "output_type": "stream",
     "text": [
      "<ipython-input-39-5f4997213e8e>:2: SettingWithCopyWarning: \n",
      "A value is trying to be set on a copy of a slice from a DataFrame\n",
      "\n",
      "See the caveats in the documentation: https://pandas.pydata.org/pandas-docs/stable/user_guide/indexing.html#returning-a-view-versus-a-copy\n",
      "  movies_directors_df.dropna(inplace=True)\n"
     ]
    },
    {
     "data": {
      "text/html": [
       "<div>\n",
       "<style scoped>\n",
       "    .dataframe tbody tr th:only-of-type {\n",
       "        vertical-align: middle;\n",
       "    }\n",
       "\n",
       "    .dataframe tbody tr th {\n",
       "        vertical-align: top;\n",
       "    }\n",
       "\n",
       "    .dataframe thead th {\n",
       "        text-align: right;\n",
       "    }\n",
       "</style>\n",
       "<table border=\"1\" class=\"dataframe\">\n",
       "  <thead>\n",
       "    <tr style=\"text-align: right;\">\n",
       "      <th></th>\n",
       "      <th>movieId</th>\n",
       "      <th>director</th>\n",
       "    </tr>\n",
       "  </thead>\n",
       "  <tbody>\n",
       "    <tr>\n",
       "      <th>0</th>\n",
       "      <td>1</td>\n",
       "      <td>John Lasseter</td>\n",
       "    </tr>\n",
       "    <tr>\n",
       "      <th>1</th>\n",
       "      <td>2</td>\n",
       "      <td>Joe Johnston</td>\n",
       "    </tr>\n",
       "    <tr>\n",
       "      <th>2</th>\n",
       "      <td>3</td>\n",
       "      <td>Howard Deutch</td>\n",
       "    </tr>\n",
       "    <tr>\n",
       "      <th>3</th>\n",
       "      <td>4</td>\n",
       "      <td>Forest Whitaker</td>\n",
       "    </tr>\n",
       "    <tr>\n",
       "      <th>4</th>\n",
       "      <td>5</td>\n",
       "      <td>Charles Shyer</td>\n",
       "    </tr>\n",
       "  </tbody>\n",
       "</table>\n",
       "</div>"
      ],
      "text/plain": [
       "   movieId         director\n",
       "0        1    John Lasseter\n",
       "1        2     Joe Johnston\n",
       "2        3    Howard Deutch\n",
       "3        4  Forest Whitaker\n",
       "4        5    Charles Shyer"
      ]
     },
     "execution_count": 39,
     "metadata": {},
     "output_type": "execute_result"
    }
   ],
   "source": [
    "movies_directors_df = movies_smd[['movieId','director']]\n",
    "movies_directors_df.dropna(inplace=True)\n",
    "movies_directors_df.head()"
   ]
  },
  {
   "cell_type": "code",
   "execution_count": 40,
   "id": "33e4af25",
   "metadata": {},
   "outputs": [
    {
     "data": {
      "text/html": [
       "<div>\n",
       "<style scoped>\n",
       "    .dataframe tbody tr th:only-of-type {\n",
       "        vertical-align: middle;\n",
       "    }\n",
       "\n",
       "    .dataframe tbody tr th {\n",
       "        vertical-align: top;\n",
       "    }\n",
       "\n",
       "    .dataframe thead th {\n",
       "        text-align: right;\n",
       "    }\n",
       "</style>\n",
       "<table border=\"1\" class=\"dataframe\">\n",
       "  <thead>\n",
       "    <tr style=\"text-align: right;\">\n",
       "      <th></th>\n",
       "      <th>director</th>\n",
       "    </tr>\n",
       "  </thead>\n",
       "  <tbody>\n",
       "    <tr>\n",
       "      <th>0</th>\n",
       "      <td>John Lasseter</td>\n",
       "    </tr>\n",
       "    <tr>\n",
       "      <th>1</th>\n",
       "      <td>Joe Johnston</td>\n",
       "    </tr>\n",
       "    <tr>\n",
       "      <th>2</th>\n",
       "      <td>Howard Deutch</td>\n",
       "    </tr>\n",
       "    <tr>\n",
       "      <th>3</th>\n",
       "      <td>Forest Whitaker</td>\n",
       "    </tr>\n",
       "    <tr>\n",
       "      <th>4</th>\n",
       "      <td>Charles Shyer</td>\n",
       "    </tr>\n",
       "  </tbody>\n",
       "</table>\n",
       "</div>"
      ],
      "text/plain": [
       "          director\n",
       "0    John Lasseter\n",
       "1     Joe Johnston\n",
       "2    Howard Deutch\n",
       "3  Forest Whitaker\n",
       "4    Charles Shyer"
      ]
     },
     "execution_count": 40,
     "metadata": {},
     "output_type": "execute_result"
    }
   ],
   "source": [
    "directors_df = pd.DataFrame(movies_directors_df['director'].unique(), columns=['director'])\n",
    "directors_df.head()"
   ]
  },
  {
   "cell_type": "code",
   "execution_count": 61,
   "id": "01029344",
   "metadata": {},
   "outputs": [],
   "source": [
    "users_df.to_csv('users.csv', header=True, index=False)\n",
    "movies_df.to_csv('movies.csv', header=True, index=False)\n",
    "genres_df.to_csv('genres.csv', header=True, index=False)\n",
    "ratings_df.to_csv('ratings.csv', header=True, index=False)\n",
    "movies_genres_df.to_csv('movies_genres.csv', header=True, index=False)\n",
    "actors_df.to_csv('actors.csv', header=True, index=False)\n",
    "directors_df.to_csv('directors.csv', header=True, index=False)\n",
    "movies_actors_df.to_csv('movies_actors.csv', header=True, index=False)\n",
    "movies_directors_df.to_csv('movies_directors.csv', header=True, index=False)"
   ]
  },
  {
   "cell_type": "code",
   "execution_count": null,
   "id": "8eeb2302",
   "metadata": {},
   "outputs": [],
   "source": []
  },
  {
   "cell_type": "code",
   "execution_count": null,
   "id": "e3e5ad63",
   "metadata": {},
   "outputs": [],
   "source": []
  },
  {
   "cell_type": "code",
   "execution_count": 1,
   "id": "c3ca3e51",
   "metadata": {},
   "outputs": [],
   "source": [
    "from py2neo import Graph"
   ]
  },
  {
   "cell_type": "code",
   "execution_count": 2,
   "id": "b26caf9b",
   "metadata": {},
   "outputs": [],
   "source": [
    "graph = Graph(\"bolt://localhost:7687\", user = \"neo4j\", password = \"password\", name = \"moviesdb\")"
   ]
  },
  {
   "cell_type": "code",
   "execution_count": 3,
   "id": "7bf4cf5c",
   "metadata": {},
   "outputs": [
    {
     "data": {
      "text/html": [
       "(No data)"
      ],
      "text/plain": [
       "(No data)"
      ]
     },
     "execution_count": 3,
     "metadata": {},
     "output_type": "execute_result"
    }
   ],
   "source": [
    "graph.run('''CREATE OR REPLACE DATABASE moviesdb''')"
   ]
  },
  {
   "cell_type": "code",
   "execution_count": 4,
   "id": "56e112e3",
   "metadata": {},
   "outputs": [
    {
     "data": {
      "text/html": [
       "(No data)"
      ],
      "text/plain": [
       "(No data)"
      ]
     },
     "execution_count": 4,
     "metadata": {},
     "output_type": "execute_result"
    }
   ],
   "source": [
    "graph.run('''\n",
    "LOAD CSV WITH HEADERS FROM\n",
    "'file:///movies.csv' AS row\n",
    "CREATE (:Movie {title: row.title, movieId: toInteger(row.movieId)})\n",
    "''')"
   ]
  },
  {
   "cell_type": "code",
   "execution_count": 5,
   "id": "c1f45efb",
   "metadata": {},
   "outputs": [
    {
     "data": {
      "text/html": [
       "(No data)"
      ],
      "text/plain": [
       "(No data)"
      ]
     },
     "execution_count": 5,
     "metadata": {},
     "output_type": "execute_result"
    }
   ],
   "source": [
    "graph.run('''\n",
    "LOAD CSV WITH HEADERS FROM\n",
    "'file:///users.csv' AS row\n",
    "CREATE (:User {userId: toInteger(row.userId)})\n",
    "''')"
   ]
  },
  {
   "cell_type": "code",
   "execution_count": 6,
   "id": "5b99727a",
   "metadata": {},
   "outputs": [
    {
     "data": {
      "text/html": [
       "(No data)"
      ],
      "text/plain": [
       "(No data)"
      ]
     },
     "execution_count": 6,
     "metadata": {},
     "output_type": "execute_result"
    }
   ],
   "source": [
    "graph.run('''\n",
    "LOAD CSV WITH HEADERS FROM\n",
    "'file:///genres.csv' AS row\n",
    "CREATE (:Genre {name: row.genre})\n",
    "''')"
   ]
  },
  {
   "cell_type": "code",
   "execution_count": 7,
   "id": "ac3dc324",
   "metadata": {},
   "outputs": [
    {
     "data": {
      "text/html": [
       "(No data)"
      ],
      "text/plain": [
       "(No data)"
      ]
     },
     "execution_count": 7,
     "metadata": {},
     "output_type": "execute_result"
    }
   ],
   "source": [
    "graph.run('''\n",
    "LOAD CSV WITH HEADERS FROM\n",
    "'file:///actors.csv' AS row\n",
    "CREATE (:Person {name: row.actor})\n",
    "''')"
   ]
  },
  {
   "cell_type": "code",
   "execution_count": 8,
   "id": "8750d046",
   "metadata": {},
   "outputs": [
    {
     "data": {
      "text/html": [
       "(No data)"
      ],
      "text/plain": [
       "(No data)"
      ]
     },
     "execution_count": 8,
     "metadata": {},
     "output_type": "execute_result"
    }
   ],
   "source": [
    "graph.run('''\n",
    "LOAD CSV WITH HEADERS FROM\n",
    "'file:///directors.csv' AS row\n",
    "MERGE (:Person {name: row.director})\n",
    "''')"
   ]
  },
  {
   "cell_type": "code",
   "execution_count": 9,
   "id": "058772a1",
   "metadata": {},
   "outputs": [
    {
     "data": {
      "text/html": [
       "(No data)"
      ],
      "text/plain": [
       "(No data)"
      ]
     },
     "execution_count": 9,
     "metadata": {},
     "output_type": "execute_result"
    }
   ],
   "source": [
    "graph.run('''CREATE CONSTRAINT ON (user:User) ASSERT user.userId IS UNIQUE''')"
   ]
  },
  {
   "cell_type": "code",
   "execution_count": 10,
   "id": "5d46b7b6",
   "metadata": {},
   "outputs": [
    {
     "data": {
      "text/html": [
       "(No data)"
      ],
      "text/plain": [
       "(No data)"
      ]
     },
     "execution_count": 10,
     "metadata": {},
     "output_type": "execute_result"
    }
   ],
   "source": [
    "graph.run('''CREATE CONSTRAINT ON (movie:Movie) ASSERT movie.movieId IS UNIQUE''')"
   ]
  },
  {
   "cell_type": "code",
   "execution_count": 11,
   "id": "1006963c",
   "metadata": {},
   "outputs": [
    {
     "data": {
      "text/html": [
       "(No data)"
      ],
      "text/plain": [
       "(No data)"
      ]
     },
     "execution_count": 11,
     "metadata": {},
     "output_type": "execute_result"
    }
   ],
   "source": [
    "graph.run('''\n",
    "LOAD CSV WITH HEADERS FROM\n",
    "'file:///ratings.csv' AS row\n",
    "MATCH (user:User {userId: toInteger(row.userId)})\n",
    "MATCH (movie:Movie {movieId: toInteger(row.movieId)})\n",
    "MERGE (user)-[:RATED {rating: toFloat(row.rating)}]->(movie)\n",
    "''')"
   ]
  },
  {
   "cell_type": "code",
   "execution_count": 12,
   "id": "9a3f2257",
   "metadata": {},
   "outputs": [
    {
     "data": {
      "text/html": [
       "(No data)"
      ],
      "text/plain": [
       "(No data)"
      ]
     },
     "execution_count": 12,
     "metadata": {},
     "output_type": "execute_result"
    }
   ],
   "source": [
    "graph.run('''CREATE CONSTRAINT ON (genre:Genre) ASSERT genre.name IS UNIQUE''')"
   ]
  },
  {
   "cell_type": "code",
   "execution_count": 13,
   "id": "49f86257",
   "metadata": {},
   "outputs": [
    {
     "data": {
      "text/html": [
       "(No data)"
      ],
      "text/plain": [
       "(No data)"
      ]
     },
     "execution_count": 13,
     "metadata": {},
     "output_type": "execute_result"
    }
   ],
   "source": [
    "graph.run('''\n",
    "LOAD CSV WITH HEADERS FROM\n",
    "'file:///movies_genres.csv' AS row\n",
    "MATCH (movie:Movie {movieId: toInteger(row.movieId)})\n",
    "MATCH (genre:Genre {name: row.genre})\n",
    "MERGE (movie)-[:IN_GENRE]->(genre)\n",
    "''')"
   ]
  },
  {
   "cell_type": "code",
   "execution_count": 14,
   "id": "f0343d0b",
   "metadata": {},
   "outputs": [
    {
     "data": {
      "text/html": [
       "(No data)"
      ],
      "text/plain": [
       "(No data)"
      ]
     },
     "execution_count": 14,
     "metadata": {},
     "output_type": "execute_result"
    }
   ],
   "source": [
    "graph.run('''CREATE CONSTRAINT ON (person:Person) ASSERT person.name IS UNIQUE''')"
   ]
  },
  {
   "cell_type": "code",
   "execution_count": 15,
   "id": "4f6d37e3",
   "metadata": {},
   "outputs": [
    {
     "data": {
      "text/html": [
       "(No data)"
      ],
      "text/plain": [
       "(No data)"
      ]
     },
     "execution_count": 15,
     "metadata": {},
     "output_type": "execute_result"
    }
   ],
   "source": [
    "graph.run('''\n",
    "LOAD CSV WITH HEADERS FROM\n",
    "'file:///movies_actors.csv' AS row\n",
    "MATCH (movie:Movie {movieId: toInteger(row.movieId)})\n",
    "MATCH (person:Person {name: row.actor})\n",
    "MERGE (movie)<-[:ACTED_IN]-(person)\n",
    "''')"
   ]
  },
  {
   "cell_type": "code",
   "execution_count": 16,
   "id": "3d933b2f",
   "metadata": {},
   "outputs": [],
   "source": [
    "#graph.run('''CREATE CONSTRAINT ON (director:Director) ASSERT director.name IS UNIQUE''')"
   ]
  },
  {
   "cell_type": "code",
   "execution_count": 17,
   "id": "1fb23a7a",
   "metadata": {},
   "outputs": [
    {
     "data": {
      "text/html": [
       "(No data)"
      ],
      "text/plain": [
       "(No data)"
      ]
     },
     "execution_count": 17,
     "metadata": {},
     "output_type": "execute_result"
    }
   ],
   "source": [
    "graph.run('''\n",
    "LOAD CSV WITH HEADERS FROM\n",
    "'file:///movies_directors.csv' AS row\n",
    "MATCH (movie:Movie {movieId: toInteger(row.movieId)})\n",
    "MATCH (person:Person {name: row.director})\n",
    "MERGE (movie)<-[:DIRECTED]-(person)\n",
    "''')"
   ]
  },
  {
   "cell_type": "code",
   "execution_count": null,
   "id": "4dffedd4",
   "metadata": {},
   "outputs": [],
   "source": []
  },
  {
   "cell_type": "markdown",
   "id": "ca8d72a2",
   "metadata": {},
   "source": [
    "Content based recommendation using Jaccard Similarity"
   ]
  },
  {
   "cell_type": "code",
   "execution_count": 79,
   "id": "ab813dd5",
   "metadata": {},
   "outputs": [
    {
     "name": "stdout",
     "output_type": "stream",
     "text": [
      "'Up'\t'A Grand Day Out'\t0.16666666666666666\n",
      "'Up'\t'Yu-Gi-Oh! The Movie'\t0.15384615384615385\n",
      "'Up'\t'Toy Story 3'\t0.14754098360655737\n",
      "'Up'\t'WALL·E'\t0.14583333333333334\n",
      "'Up'\t'Finding Dory'\t0.14\n",
      "'Up'\t'Little Nemo: Adventures In Slumberland'\t0.13793103448275862\n",
      "'Up'\t'Creature Comforts'\t0.13636363636363635\n",
      "'Up'\t\"Geri's Game\"\t0.13636363636363635\n",
      "'Up'\t'Spirit: Stallion of the Cimarron'\t0.13513513513513514\n",
      "'Up'\t\"A Bug's Life\"\t0.13513513513513514\n",
      "'Up'\t'Rock-A-Doodle'\t0.13333333333333333\n",
      "'Up'\t'Asterix the Gaul'\t0.13333333333333333\n",
      "'Up'\t'Brave'\t0.13157894736842105\n",
      "'Up'\t'Monsters, Inc.'\t0.13043478260869565\n",
      "'Up'\t'The Wrong Trousers'\t0.13043478260869565\n",
      "'Up'\t'The Looney, Looney, Looney Bugs Bunny Movie'\t0.13043478260869565\n",
      "'Up'\t\"Mike's New Car\"\t0.13043478260869565\n",
      "'Up'\t'The Croods'\t0.12903225806451613\n",
      "'Up'\t'Osmosis Jones'\t0.12903225806451613\n",
      "'Up'\t'Inside Out'\t0.125\n",
      "'Up'\t'A Close Shave'\t0.125\n",
      "'Up'\t'An American Tail'\t0.12121212121212122\n",
      "'Up'\t'The Care Bears Movie'\t0.12121212121212122\n",
      "'Up'\t'The Road to El Dorado'\t0.11764705882352941\n",
      "'Up'\t'Toy Story'\t0.11764705882352941\n"
     ]
    }
   ],
   "source": [
    "result = graph.run('''MATCH (m:Movie {title: \"Up\"})-[:IN_GENRE|ACTED_IN|DIRECTED]-(t)-[:IN_GENRE|ACTED_IN|DIRECTED]-(other:Movie)\n",
    "WITH m, other, COUNT(t) AS intersection, COLLECT(t.name) AS i\n",
    "MATCH (m)-[:IN_GENRE|ACTED_IN|DIRECTED]-(mt)\n",
    "WITH m,other, intersection,i, COLLECT(mt.name) AS s1\n",
    "MATCH (other)-[:IN_GENRE|ACTED_IN|DIRECTED]-(ot)\n",
    "WITH m,other,intersection,i, s1, COLLECT(ot.name) AS s2\n",
    "\n",
    "WITH m,other,intersection,s1,s2\n",
    "\n",
    "WITH m,other,intersection,s1+[x IN s2 WHERE NOT x IN s1] AS union, s1, s2\n",
    "\n",
    "RETURN m.title AS movie, other.title AS recommendation, ((1.0*intersection)/SIZE(union)) AS jaccard ORDER BY jaccard DESC LIMIT 25''')\n",
    "\n",
    "for row in result:\n",
    "    print(row)"
   ]
  },
  {
   "cell_type": "code",
   "execution_count": 80,
   "id": "fcdee0c6",
   "metadata": {},
   "outputs": [
    {
     "name": "stdout",
     "output_type": "stream",
     "text": [
      "'Star Wars'\t'The Empire Strikes Back'\t0.1111111111111111\n",
      "'Star Wars'\t'Return of the Jedi'\t0.07079646017699115\n",
      "'Star Wars'\t'Empire of Dreams: The Story of the Star Wars Trilogy'\t0.06766917293233082\n",
      "'Star Wars'\t'Star Wars: Episode III - Revenge of the Sith'\t0.04819277108433735\n",
      "'Star Wars'\t'Star Wars: The Force Awakens'\t0.04736842105263158\n",
      "'Star Wars'\t'Raiders of the Lost Ark'\t0.04487179487179487\n",
      "'Star Wars'\t'Rollerball'\t0.04065040650406504\n",
      "'Star Wars'\t'Star Wars: Episode II - Attack of the Clones'\t0.04\n",
      "'Star Wars'\t'Superman II'\t0.0379746835443038\n",
      "'Star Wars'\t'Star Wars: Episode I - The Phantom Menace'\t0.03614457831325301\n",
      "'Star Wars'\t'Time Bandits'\t0.033783783783783786\n",
      "'Star Wars'\t'Biggles'\t0.03278688524590164\n",
      "'Star Wars'\t'Sinbad and the Eye of the Tiger'\t0.032520325203252036\n",
      "'Star Wars'\t'Force 10 from Navarone'\t0.03225806451612903\n",
      "'Star Wars'\t'Superman IV: The Quest for Peace'\t0.03125\n",
      "'Star Wars'\t'The Elephant Man'\t0.03125\n",
      "'Star Wars'\t'Star Wars: The Clone Wars'\t0.03125\n",
      "'Star Wars'\t'The Adventures of Baron Munchausen'\t0.031007751937984496\n",
      "'Star Wars'\t\"Ender's Game\"\t0.03076923076923077\n",
      "'Star Wars'\t'The Plague of the Zombies'\t0.029850746268656716\n",
      "'Star Wars'\t'Krull'\t0.02962962962962963\n",
      "'Star Wars'\t'The Spy Who Loved Me'\t0.02877697841726619\n",
      "'Star Wars'\t'The Saint'\t0.02857142857142857\n",
      "'Star Wars'\t'Battle for Terra'\t0.028169014084507043\n",
      "'Star Wars'\t'Yu-Gi-Oh! The Movie'\t0.02586206896551724\n"
     ]
    }
   ],
   "source": [
    "result = graph.run('''MATCH (m:Movie {title: \"Star Wars\"})-[:IN_GENRE|ACTED_IN|DIRECTED]-(t)-[:IN_GENRE|ACTED_IN|DIRECTED]-(other:Movie)\n",
    "WITH m, other, COLLECT(t.name) AS i\n",
    "MATCH (m)-[:IN_GENRE|ACTED_IN|DIRECTED]-(mt)\n",
    "WITH m,other,i, COLLECT(DISTINCT id(mt)) AS s1\n",
    "MATCH (other)-[:IN_GENRE|ACTED_IN|DIRECTED]-(ot)\n",
    "WITH m,other,i, s1, COLLECT(DISTINCT id(ot)) AS s2\n",
    "\n",
    "WITH m,other,s1,s2\n",
    "\n",
    "RETURN m.title AS movie, other.title AS recommendation, gds.similarity.jaccard(s1,s2) AS jaccard ORDER BY jaccard DESC LIMIT 25''')\n",
    "\n",
    "for row in result:\n",
    "    print(row)"
   ]
  },
  {
   "cell_type": "markdown",
   "id": "cdea837c",
   "metadata": {},
   "source": [
    "Overlap Similarity"
   ]
  },
  {
   "cell_type": "code",
   "execution_count": 81,
   "id": "75e2ef3e",
   "metadata": {},
   "outputs": [
    {
     "name": "stdout",
     "output_type": "stream",
     "text": [
      "'Star Wars'\t'All Is Lost'\t0.4\n",
      "'Star Wars'\t'9'\t0.3333333333333333\n",
      "'Star Wars'\t'Africa: The Serengeti'\t0.3333333333333333\n",
      "'Star Wars'\t'Yu-Gi-Oh! The Movie'\t0.3333333333333333\n",
      "'Star Wars'\t'More'\t0.3333333333333333\n",
      "'Star Wars'\t\"Cocaine Cowboys II: Hustlin' with the Godmother\"\t0.3333333333333333\n",
      "'Star Wars'\t'Carrie Fisher: Wishful Drinking'\t0.3333333333333333\n",
      "'Star Wars'\t'A Grand Day Out'\t0.2857142857142857\n",
      "'Star Wars'\t'The Snow Walker'\t0.2857142857142857\n",
      "'Star Wars'\t'Benji the Hunted'\t0.2857142857142857\n",
      "'Star Wars'\t'Empire of Dreams: The Story of the Star Wars Trilogy'\t0.28125\n",
      "'Star Wars'\t'Rollerball'\t0.2777777777777778\n",
      "'Star Wars'\t'Left Behind III: World at War'\t0.2727272727272727\n",
      "'Star Wars'\t'Mutant Chronicles'\t0.2727272727272727\n",
      "'Star Wars'\t'Hercules in New York'\t0.2727272727272727\n",
      "'Star Wars'\t'Baby: Secret of the Lost Legend'\t0.25\n",
      "'Star Wars'\t'Tarzan, the Ape Man'\t0.25\n",
      "'Star Wars'\t'Biggles'\t0.25\n",
      "'Star Wars'\t'Ong Bak 2'\t0.25\n",
      "'Star Wars'\t'Mysterious Island'\t0.25\n",
      "'Star Wars'\t'The Empire Strikes Back'\t0.2375\n",
      "'Star Wars'\t'Sinbad and the Eye of the Tiger'\t0.23529411764705882\n",
      "'Star Wars'\t'Fullmetal Alchemist: The Sacred Star of Milos'\t0.23076923076923078\n",
      "'Star Wars'\t\"Dragon Ball Z: Cooler's Revenge\"\t0.2222222222222222\n",
      "'Star Wars'\t'Force 10 from Navarone'\t0.2222222222222222\n"
     ]
    }
   ],
   "source": [
    "result = graph.run('''MATCH (m:Movie {title: \"Star Wars\"})-[:IN_GENRE|ACTED_IN|DIRECTED]-(t)-[:IN_GENRE|ACTED_IN|DIRECTED]-(other:Movie)\n",
    "WITH m, other, COLLECT(t.name) AS i\n",
    "MATCH (m)-[:IN_GENRE|ACTED_IN|DIRECTED]-(mt)\n",
    "WITH m,other,i, COLLECT(DISTINCT id(mt)) AS s1\n",
    "MATCH (other)-[:IN_GENRE|ACTED_IN|DIRECTED]-(ot)\n",
    "WITH m,other,i, s1, COLLECT(DISTINCT id(ot)) AS s2\n",
    "\n",
    "WITH m,other,s1,s2\n",
    "\n",
    "RETURN m.title AS movie, other.title AS recommendation, gds.similarity.overlap(s1,s2) AS jaccard ORDER BY jaccard DESC LIMIT 25''')\n",
    "\n",
    "for row in result:\n",
    "    print(row)"
   ]
  },
  {
   "cell_type": "markdown",
   "id": "daa9b0a9",
   "metadata": {},
   "source": [
    "Content based recommendation using Jaccard Similarity"
   ]
  },
  {
   "cell_type": "code",
   "execution_count": 83,
   "id": "723987d4",
   "metadata": {},
   "outputs": [
    {
     "name": "stdout",
     "output_type": "stream",
     "text": [
      "'Is It Fall Yet?'\t'Is It College Yet?'\t1.0\n",
      "'The Lord of the Rings: The Return of the King'\t'The Lord of the Rings: The Fellowship of the Ring'\t0.5365853658536586\n",
      "'The Lord of the Rings: The Return of the King'\t'The Lord of the Rings: The Two Towers'\t0.4791666666666667\n",
      "'The White Stripes: Under Great White Northern Lights'\t'Scratch'\t0.3333333333333333\n",
      "'Is It Fall Yet?'\t'Maggie Simpson in The Longest Daycare'\t0.3333333333333333\n",
      "'Is It Fall Yet?'\t'Idiots and Angels'\t0.3333333333333333\n",
      "'Is It Fall Yet?'\t'Bambi Meets Godzilla'\t0.3333333333333333\n",
      "'The White Stripes: Under Great White Northern Lights'\t'Theremin: An Electronic Odyssey'\t0.3333333333333333\n",
      "'The White Stripes: Under Great White Northern Lights'\t'Every Little Step'\t0.3333333333333333\n",
      "'The White Stripes: Under Great White Northern Lights'\t'It Might Get Loud'\t0.3333333333333333\n",
      "'Finding Nemo'\t'Finding Dory'\t0.3125\n",
      "'Is It Fall Yet?'\t'Creature Comforts'\t0.2857142857142857\n",
      "'The White Stripes: Under Great White Northern Lights'\t'Paul Williams Still Alive'\t0.2857142857142857\n",
      "'The White Stripes: Under Great White Northern Lights'\t'Kurt Cobain: About a Son'\t0.2857142857142857\n",
      "'The White Stripes: Under Great White Northern Lights'\t'Hated:  GG Allin & the Murder Junkies'\t0.2857142857142857\n",
      "'The White Stripes: Under Great White Northern Lights'\t'Springsteen & I'\t0.2857142857142857\n",
      "'The White Stripes: Under Great White Northern Lights'\t'Powaqqatsi'\t0.2857142857142857\n",
      "'Aladdin'\t'The Return of Jafar'\t0.2702702702702703\n",
      "'Aladdin'\t'Aladdin and the King of Thieves'\t0.25\n",
      "'The White Stripes: Under Great White Northern Lights'\t'Naqoyqatsi'\t0.25\n",
      "'Is It Fall Yet?'\t\"Will Vinton's Claymation Christmas Celebration\"\t0.25\n",
      "'The White Stripes: Under Great White Northern Lights'\t'Koyaanisqatsi'\t0.25\n",
      "'The White Stripes: Under Great White Northern Lights'\t'Genghis Blues'\t0.25\n",
      "'The White Stripes: Under Great White Northern Lights'\t'Neil Young: Heart of Gold'\t0.25\n",
      "'Is It Fall Yet?'\t'The Wrong Trousers'\t0.25\n"
     ]
    }
   ],
   "source": [
    "result = graph.run('''\n",
    "MATCH(u:User{userId:3})-[:RATED]->(m:Movie)-[:IN_GENRE|ACTED_IN|DIRECTED]-(t)-[:IN_GENRE|ACTED_IN|DIRECTED]-(other:Movie)\n",
    "WHERE NOT EXISTS ((u)-[:RATED]->(other))\n",
    "WITH m, other, COLLECT(t.name) AS i\n",
    "MATCH (m)-[:IN_GENRE|ACTED_IN|DIRECTED]-(mt)\n",
    "WITH m,other,i, COLLECT(DISTINCT id(mt)) AS s1\n",
    "MATCH (other)-[:IN_GENRE|ACTED_IN|DIRECTED]-(ot)\n",
    "WITH m,other,i, s1, COLLECT(DISTINCT id(ot)) AS s2\n",
    "\n",
    "WITH m,other,s1,s2\n",
    "\n",
    "RETURN m.title AS movie, other.title AS recommendation, gds.similarity.jaccard(s1,s2) AS jaccard ORDER BY jaccard DESC LIMIT 25''')\n",
    "\n",
    "for row in result:\n",
    "    print(row)"
   ]
  },
  {
   "cell_type": "markdown",
   "id": "818071ba",
   "metadata": {},
   "source": [
    "Content based recommendation using Overlap Similarity"
   ]
  },
  {
   "cell_type": "code",
   "execution_count": null,
   "id": "4528a852",
   "metadata": {},
   "outputs": [],
   "source": [
    "result = graph.run('''\n",
    "MATCH(u:User{userId:14})-[:RATED]->(m:Movie)-[:IN_GENRE|ACTED_IN|DIRECTED]-(t)-[:IN_GENRE|ACTED_IN|DIRECTED]-(other:Movie)\n",
    "WHERE NOT EXISTS ((u)-[:RATED]->(other))\n",
    "WITH m, other, COLLECT(t.name) AS i\n",
    "MATCH (m)-[:IN_GENRE|ACTED_IN|DIRECTED]-(mt)\n",
    "WITH m,other,i, COLLECT(DISTINCT id(mt)) AS s1\n",
    "MATCH (other)-[:IN_GENRE|ACTED_IN|DIRECTED]-(ot)\n",
    "WITH m,other,i, s1, COLLECT(DISTINCT id(ot)) AS s2\n",
    "\n",
    "WITH m,other,s1,s2\n",
    "\n",
    "RETURN m.title AS movie, other.title AS recommendation, gds.similarity.overlap(s1,s2) AS overlap ORDER BY overlap DESC LIMIT 25''')\n",
    "\n",
    "for row in result:\n",
    "    print(row)"
   ]
  },
  {
   "cell_type": "markdown",
   "id": "a5207dbd",
   "metadata": {},
   "source": [
    "Users similar to user 14 using cosine similarity"
   ]
  },
  {
   "cell_type": "code",
   "execution_count": null,
   "id": "fb4fdfa3",
   "metadata": {},
   "outputs": [],
   "source": [
    "result = graph.run('''MATCH (p1:User {userId: 14})-[x:RATED]->(m:Movie)<-[y:RATED]-(p2:User)\n",
    "WITH COUNT(m) AS numbermovies, SUM(x.rating * y.rating) AS xyDotProduct,\n",
    "SQRT(REDUCE(xDot = 0.0, a IN COLLECT(x.rating) | xDot + a^2)) AS xLength,\n",
    "SQRT(REDUCE(yDot = 0.0, b IN COLLECT(y.rating) | yDot + b^2)) AS yLength,\n",
    "p1, p2 WHERE numbermovies > 10\n",
    "RETURN p1.userId, p2.userId, xyDotProduct / (xLength * yLength) AS sim\n",
    "ORDER BY sim DESC\n",
    "LIMIT 25''')\n",
    "\n",
    "for row in result:\n",
    "    print(row)"
   ]
  },
  {
   "cell_type": "markdown",
   "id": "d71f1675",
   "metadata": {},
   "source": [
    "Users similar to user 14 using pearson similarity"
   ]
  },
  {
   "cell_type": "code",
   "execution_count": null,
   "id": "48f2ebdd",
   "metadata": {},
   "outputs": [],
   "source": [
    "result = graph.run('''\n",
    "MATCH (u1:User {userId: 14})-[r:RATED]->(m:Movie)\n",
    "WITH u1, avg(r.rating) AS u1_mean\n",
    "\n",
    "MATCH (u1)-[r1:RATED]->(m:Movie)<-[r2:RATED]-(u2)\n",
    "WITH u1, u1_mean, u2, COLLECT({r1: r1, r2: r2}) AS ratings WHERE size(ratings) > 10\n",
    "\n",
    "MATCH (u2)-[r:RATED]->(m:Movie)\n",
    "WITH u1, u1_mean, u2, avg(r.rating) AS u2_mean, ratings\n",
    "\n",
    "UNWIND ratings AS r\n",
    "\n",
    "WITH sum( (r.r1.rating-u1_mean) * (r.r2.rating-u2_mean) ) AS nom,\n",
    "     sqrt( sum( (r.r1.rating - u1_mean)^2) * sum( (r.r2.rating - u2_mean) ^2)) AS denom,\n",
    "     u1, u2 WHERE denom <> 0\n",
    "\n",
    "RETURN u1.userId, u2.userId, nom/denom AS pearson\n",
    "ORDER BY pearson DESC LIMIT 100\n",
    "''')\n",
    "\n",
    "for row in result:\n",
    "    print(row)"
   ]
  },
  {
   "cell_type": "markdown",
   "id": "be5dcca1",
   "metadata": {},
   "source": [
    "Collaborative recommendation using cosine similarity"
   ]
  },
  {
   "cell_type": "code",
   "execution_count": 18,
   "id": "c434aeff",
   "metadata": {},
   "outputs": [
    {
     "name": "stdout",
     "output_type": "stream",
     "text": [
      "'Star Wars'\t41.18549971541927\n",
      "'The Jungle Book'\t39.78711059427326\n",
      "'The Shawshank Redemption'\t38.4387093815905\n",
      "'The Matrix'\t38.435497794611905\n",
      "'Forrest Gump'\t37.94211510217359\n",
      "\"Ferris Bueller's Day Off\"\t37.06255891295553\n",
      "'The Princess Bride'\t36.95696164675655\n",
      "'The Lion King'\t36.57998774903883\n",
      "'Mary Poppins'\t36.55559698084908\n",
      "'The Little Mermaid'\t36.103116663940426\n",
      "'Planet of the Apes'\t35.94079157980024\n",
      "'The Wizard of Oz'\t35.620623830927855\n",
      "'Return of the Jedi'\t35.58588078499415\n",
      "'Beauty and the Beast'\t35.181537720820835\n",
      "'Back to the Future'\t35.15619424337725\n",
      "'Raiders of the Lost Ark'\t35.085833117982986\n",
      "'Aladdin'\t34.21374926267176\n",
      "'Toy Story'\t34.140370531261105\n",
      "'Who Framed Roger Rabbit'\t33.74324931254038\n",
      "'Men in Black'\t33.321771869683154\n",
      "'Big'\t33.28903163728078\n",
      "'Pulp Fiction'\t33.21653203486493\n",
      "\"Schindler's List\"\t32.8258227041268\n",
      "'The Sound of Music'\t32.26933944446963\n",
      "'As Good as It Gets'\t32.25293988137211\n"
     ]
    }
   ],
   "source": [
    "result = graph.run('''MATCH (p1:User {userId: 14})-[x:RATED]->(m:Movie)<-[y:RATED]-(p2:User)\n",
    "WITH COUNT(m) AS numbermovies, SUM(x.rating * y.rating) AS xyDotProduct,\n",
    "SQRT(REDUCE(xDot = 0.0, a IN COLLECT(x.rating) | xDot + a^2)) AS xLength,\n",
    "SQRT(REDUCE(yDot = 0.0, b IN COLLECT(y.rating) | yDot + b^2)) AS yLength,\n",
    "p1, p2 WHERE numbermovies > 10\n",
    "WITH p1, p2, xyDotProduct / (xLength * yLength) AS sim\n",
    "ORDER BY sim DESC\n",
    "LIMIT 10\n",
    "\n",
    "MATCH (p2)-[r:RATED]->(m:Movie) WHERE NOT EXISTS( (p1)-[:RATED]->(m) )\n",
    "\n",
    "RETURN m.title, SUM( sim * r.rating) AS score\n",
    "ORDER BY score DESC LIMIT 25''')\n",
    "\n",
    "for row in result:\n",
    "    print(row)"
   ]
  },
  {
   "cell_type": "markdown",
   "id": "bdf58832",
   "metadata": {},
   "source": [
    "Collaborative recommendation using pearson similarity"
   ]
  },
  {
   "cell_type": "code",
   "execution_count": null,
   "id": "b43af63a",
   "metadata": {},
   "outputs": [],
   "source": [
    "result = graph.run('''\n",
    "MATCH (u1:User {userId: 10})-[r:RATED]->(m:Movie)\n",
    "WITH u1, avg(r.rating) AS u1_mean\n",
    "\n",
    "MATCH (u1)-[r1:RATED]->(m:Movie)<-[r2:RATED]-(u2)\n",
    "WITH u1, u1_mean, u2, COLLECT({r1: r1, r2: r2}) AS ratings WHERE size(ratings) > 10\n",
    "\n",
    "MATCH (u2)-[r:RATED]->(m:Movie)\n",
    "WITH u1, u1_mean, u2, avg(r.rating) AS u2_mean, ratings\n",
    "\n",
    "UNWIND ratings AS r\n",
    "\n",
    "WITH sum( (r.r1.rating-u1_mean) * (r.r2.rating-u2_mean) ) AS nom,\n",
    "     sqrt( sum( (r.r1.rating - u1_mean)^2) * sum( (r.r2.rating - u2_mean) ^2)) AS denom,\n",
    "     u1, u2 WHERE denom <> 0\n",
    "\n",
    "WITH u1, u2, nom/denom AS pearson\n",
    "ORDER BY pearson DESC LIMIT 10\n",
    "\n",
    "MATCH (u2)-[r:RATED]->(m:Movie) WHERE NOT EXISTS( (u1)-[:RATED]->(m) )\n",
    "\n",
    "RETURN m.title, SUM( pearson * r.rating) AS score\n",
    "ORDER BY score DESC LIMIT 25\n",
    "''')\n",
    "\n",
    "for row in result:\n",
    "    print(row)"
   ]
  },
  {
   "cell_type": "code",
   "execution_count": null,
   "id": "9fcf08a5",
   "metadata": {},
   "outputs": [],
   "source": [
    "graph.run('''\n",
    "MATCH (u1:User {userId: 14})-[x:RATED]->(movie:Movie)\n",
    "WITH u1, gds.similarity.asVector(movie, x.rating) AS u1Vector\n",
    "MATCH (u2:User)-[x2:RATED]->(movie:Movie) WHERE u2 <> u1\n",
    "\n",
    "WITH u1, u2, u1Vector, algo.similarity.asVector(movie, x2.rating) AS u2Vector\n",
    "WHERE size(apoc.coll.intersection([v in u1Vector | v.category], [v in u2Vector | v.category])) > 10\n",
    "\n",
    "WITH u1, u2,  gds.similarity.pearson(u1Vector, u2Vector) AS similarity\n",
    "ORDER BY similarity DESC\n",
    "LIMIT 10\n",
    "\n",
    "MATCH (u2)-[r:RATED]->(m:Movie) WHERE NOT EXISTS( (u1)-[:RATED]->(m) )\n",
    "RETURN m.title, SUM( similarity * r.rating) AS score\n",
    "ORDER BY score DESC LIMIT 25\n",
    "''')"
   ]
  },
  {
   "cell_type": "code",
   "execution_count": null,
   "id": "60b3aa79",
   "metadata": {},
   "outputs": [],
   "source": []
  },
  {
   "cell_type": "code",
   "execution_count": null,
   "id": "6a76c54f",
   "metadata": {},
   "outputs": [],
   "source": [
    "wZmkfhzPW4U-UDdBzu1YCWEAUNOla9JLRYa5f-whQJY"
   ]
  }
 ],
 "metadata": {
  "kernelspec": {
   "display_name": "Python 3",
   "language": "python",
   "name": "python3"
  },
  "language_info": {
   "codemirror_mode": {
    "name": "ipython",
    "version": 3
   },
   "file_extension": ".py",
   "mimetype": "text/x-python",
   "name": "python",
   "nbconvert_exporter": "python",
   "pygments_lexer": "ipython3",
   "version": "3.8.8"
  }
 },
 "nbformat": 4,
 "nbformat_minor": 5
}
